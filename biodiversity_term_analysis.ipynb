{
 "cells": [
  {
   "cell_type": "markdown",
   "metadata": {},
   "source": [
    "## term analysis and statistics"
   ]
  },
  {
   "cell_type": "markdown",
   "metadata": {},
   "source": [
    "### encoding TNFD glossary terms"
   ]
  },
  {
   "cell_type": "code",
   "execution_count": 2,
   "metadata": {},
   "outputs": [],
   "source": [
    "from sentence_transformers import SentenceTransformer\n",
    "import pandas as pd\n",
    "import numpy as np"
   ]
  },
  {
   "cell_type": "code",
   "execution_count": null,
   "metadata": {},
   "outputs": [],
   "source": [
    "model = SentenceTransformer('all-mpnet-base-v2', device='cpu')\n",
    "df_tfnd_glossary_2023[\"embedding\"] = df_tfnd_glossary_2023[\"Definition\"].apply(lambda term: model.encode(term, convert_to_numpy=True))"
   ]
  },
  {
   "cell_type": "code",
   "execution_count": null,
   "metadata": {},
   "outputs": [],
   "source": [
    "df_tfnd_glossary_2023.to_json(\"data/df_tfnd_glossary_2023_embedded.json\", orient=\"records\")"
   ]
  },
  {
   "cell_type": "code",
   "execution_count": 7,
   "metadata": {},
   "outputs": [],
   "source": [
    "df_tfnd_glossary_2023 = pd.read_json(\"data/df_tfnd_glossary_2023_embedded.json\", orient=\"records\")\n",
    "df_tfnd_glossary_2023[\"embedding\"] = df_tfnd_glossary_2023[\"embedding\"].apply(lambda x: np.array(x, dtype=np.float32))"
   ]
  },
  {
   "cell_type": "code",
   "execution_count": 8,
   "metadata": {},
   "outputs": [
    {
     "data": {
      "text/html": [
       "<div>\n",
       "<style scoped>\n",
       "    .dataframe tbody tr th:only-of-type {\n",
       "        vertical-align: middle;\n",
       "    }\n",
       "\n",
       "    .dataframe tbody tr th {\n",
       "        vertical-align: top;\n",
       "    }\n",
       "\n",
       "    .dataframe thead th {\n",
       "        text-align: right;\n",
       "    }\n",
       "</style>\n",
       "<table border=\"1\" class=\"dataframe\">\n",
       "  <thead>\n",
       "    <tr style=\"text-align: right;\">\n",
       "      <th></th>\n",
       "      <th>Unnamed: 0</th>\n",
       "      <th>Term</th>\n",
       "      <th>Definition</th>\n",
       "      <th>embedding</th>\n",
       "    </tr>\n",
       "  </thead>\n",
       "  <tbody>\n",
       "    <tr>\n",
       "      <th>0</th>\n",
       "      <td>0</td>\n",
       "      <td>Abiotic flows</td>\n",
       "      <td>Abiotic flows are contributions to benefits fr...</td>\n",
       "      <td>[-0.029361257, 0.006075624, -0.018649256, 0.04...</td>\n",
       "    </tr>\n",
       "    <tr>\n",
       "      <th>1</th>\n",
       "      <td>1</td>\n",
       "      <td>Acute risk</td>\n",
       "      <td>Occurrence of short-term, specific events that...</td>\n",
       "      <td>[-0.038341668, -0.0003466105, 0.009580128, -0....</td>\n",
       "    </tr>\n",
       "    <tr>\n",
       "      <th>2</th>\n",
       "      <td>2</td>\n",
       "      <td>Adaptation</td>\n",
       "      <td>Adjustment in natural or human systems to a ne...</td>\n",
       "      <td>[-0.022162942, -0.044189833, 0.0013946677, -0....</td>\n",
       "    </tr>\n",
       "    <tr>\n",
       "      <th>3</th>\n",
       "      <td>3</td>\n",
       "      <td>Additional conservation actions</td>\n",
       "      <td>A broad range of activities intended to benefi...</td>\n",
       "      <td>[0.009307631, 0.02553423, -0.012623155, 0.0058...</td>\n",
       "    </tr>\n",
       "    <tr>\n",
       "      <th>4</th>\n",
       "      <td>4</td>\n",
       "      <td>Additional disclosure metrics</td>\n",
       "      <td>Metrics suggested by the TNFD that a company o...</td>\n",
       "      <td>[-0.023433544, 0.009369389, -0.014957044, -0.0...</td>\n",
       "    </tr>\n",
       "    <tr>\n",
       "      <th>...</th>\n",
       "      <td>...</td>\n",
       "      <td>...</td>\n",
       "      <td>...</td>\n",
       "      <td>...</td>\n",
       "    </tr>\n",
       "    <tr>\n",
       "      <th>352</th>\n",
       "      <td>352</td>\n",
       "      <td>Water sources</td>\n",
       "      <td>Water sources include water withdrawn from sur...</td>\n",
       "      <td>[0.017979847, 0.00714735, 0.009741537, 0.02206...</td>\n",
       "    </tr>\n",
       "    <tr>\n",
       "      <th>353</th>\n",
       "      <td>353</td>\n",
       "      <td>Water stress (areas of)</td>\n",
       "      <td>Water stressed (region): defined in three lev...</td>\n",
       "      <td>[-0.01709339, -0.08745881, -0.0017973423, -0.0...</td>\n",
       "    </tr>\n",
       "    <tr>\n",
       "      <th>354</th>\n",
       "      <td>354</td>\n",
       "      <td>Water withdrawal</td>\n",
       "      <td>The sum of all water drawn into the boundaries...</td>\n",
       "      <td>[0.013102424, -0.07435216, 0.013924917, 0.0146...</td>\n",
       "    </tr>\n",
       "    <tr>\n",
       "      <th>355</th>\n",
       "      <td>355</td>\n",
       "      <td>Wild species</td>\n",
       "      <td>Refers to populations of any native species th...</td>\n",
       "      <td>[-0.007327114, -0.020553412, 0.007337141, -0.0...</td>\n",
       "    </tr>\n",
       "    <tr>\n",
       "      <th>356</th>\n",
       "      <td>356</td>\n",
       "      <td>Yield (in agriculture)</td>\n",
       "      <td>Intensity of production per unit of land area....</td>\n",
       "      <td>[-0.0291662, -0.054731376, -0.011173862, 0.014...</td>\n",
       "    </tr>\n",
       "  </tbody>\n",
       "</table>\n",
       "<p>357 rows × 4 columns</p>\n",
       "</div>"
      ],
      "text/plain": [
       "     Unnamed: 0                             Term  \\\n",
       "0             0                    Abiotic flows   \n",
       "1             1                       Acute risk   \n",
       "2             2                       Adaptation   \n",
       "3             3  Additional conservation actions   \n",
       "4             4    Additional disclosure metrics   \n",
       "..          ...                              ...   \n",
       "352         352                    Water sources   \n",
       "353         353          Water stress (areas of)   \n",
       "354         354                 Water withdrawal   \n",
       "355         355                     Wild species   \n",
       "356         356           Yield (in agriculture)   \n",
       "\n",
       "                                            Definition  \\\n",
       "0    Abiotic flows are contributions to benefits fr...   \n",
       "1    Occurrence of short-term, specific events that...   \n",
       "2    Adjustment in natural or human systems to a ne...   \n",
       "3    A broad range of activities intended to benefi...   \n",
       "4    Metrics suggested by the TNFD that a company o...   \n",
       "..                                                 ...   \n",
       "352  Water sources include water withdrawn from sur...   \n",
       "353   Water stressed (region): defined in three lev...   \n",
       "354  The sum of all water drawn into the boundaries...   \n",
       "355  Refers to populations of any native species th...   \n",
       "356  Intensity of production per unit of land area....   \n",
       "\n",
       "                                             embedding  \n",
       "0    [-0.029361257, 0.006075624, -0.018649256, 0.04...  \n",
       "1    [-0.038341668, -0.0003466105, 0.009580128, -0....  \n",
       "2    [-0.022162942, -0.044189833, 0.0013946677, -0....  \n",
       "3    [0.009307631, 0.02553423, -0.012623155, 0.0058...  \n",
       "4    [-0.023433544, 0.009369389, -0.014957044, -0.0...  \n",
       "..                                                 ...  \n",
       "352  [0.017979847, 0.00714735, 0.009741537, 0.02206...  \n",
       "353  [-0.01709339, -0.08745881, -0.0017973423, -0.0...  \n",
       "354  [0.013102424, -0.07435216, 0.013924917, 0.0146...  \n",
       "355  [-0.007327114, -0.020553412, 0.007337141, -0.0...  \n",
       "356  [-0.0291662, -0.054731376, -0.011173862, 0.014...  \n",
       "\n",
       "[357 rows x 4 columns]"
      ]
     },
     "execution_count": 8,
     "metadata": {},
     "output_type": "execute_result"
    }
   ],
   "source": [
    "df_tfnd_glossary_2023"
   ]
  },
  {
   "cell_type": "markdown",
   "metadata": {},
   "source": [
    "### relevant terms"
   ]
  },
  {
   "cell_type": "code",
   "execution_count": 9,
   "metadata": {},
   "outputs": [],
   "source": [
    "terms = ['Nature-related systemic risks', \n",
    "        'Nature-related physical risks',\n",
    "        'Nature-related transition risks',\n",
    "        'Nature-related opportunities',\n",
    "        'Ecosystem protection, restoration and regeneration opportunity']\n",
    "risks_opportunities_tnfd_glossary = df_tfnd_glossary_2023[df_tfnd_glossary_2023['Term'].isin(terms)]"
   ]
  },
  {
   "cell_type": "code",
   "execution_count": 9,
   "metadata": {},
   "outputs": [],
   "source": [
    "risk_glossary_terms = ['Ecosystem stability risk', \n",
    "                       'Nature-related systemic risks',\n",
    "                       'Nature-related transition risks']\n",
    "opportunities_terms = ['Sustainable use of natural resources opportunity',\n",
    "                       'Ecosystem protection, restoration and regeneration opportunity']\n"
   ]
  },
  {
   "cell_type": "markdown",
   "metadata": {},
   "source": [
    "### fetching relevant chunks from the ECC database based on the glossary terms"
   ]
  },
  {
   "cell_type": "code",
   "execution_count": 1,
   "metadata": {},
   "outputs": [
    {
     "name": "stderr",
     "output_type": "stream",
     "text": [
      "/Users/joey/Desktop/uni/Master/neo4j_repository/.venv/lib/python3.9/site-packages/urllib3/__init__.py:35: NotOpenSSLWarning: urllib3 v2 only supports OpenSSL 1.1.1+, currently the 'ssl' module is compiled with 'LibreSSL 2.8.3'. See: https://github.com/urllib3/urllib3/issues/3020\n",
      "  warnings.warn(\n",
      "/Users/joey/Desktop/uni/Master/neo4j_repository/.venv/lib/python3.9/site-packages/tqdm/auto.py:21: TqdmWarning: IProgress not found. Please update jupyter and ipywidgets. See https://ipywidgets.readthedocs.io/en/stable/user_install.html\n",
      "  from .autonotebook import tqdm as notebook_tqdm\n"
     ]
    }
   ],
   "source": [
    "from glossary_similarity import fetch_chunks_for_term_for_years_biodiv_subset, get_biodiversity_subset"
   ]
  },
  {
   "cell_type": "code",
   "execution_count": 4,
   "metadata": {},
   "outputs": [],
   "source": [
    "time_frame = [2015,2016,2017,2018,2019,2020,2021,2022,2023]"
   ]
  },
  {
   "cell_type": "code",
   "execution_count": 10,
   "metadata": {},
   "outputs": [
    {
     "name": "stdout",
     "output_type": "stream",
     "text": [
      "returning biodiv also\n",
      "processing term Ecosystem protection, restoration and regeneration opportunity [80 out of 357] ..\n",
      "results for Ecosystem protection, restoration and regeneration opportunity: 66\n",
      "processing term Nature-related opportunities [192 out of 357] ..\n",
      "results for Nature-related opportunities: 86\n",
      "processing term Nature-related physical risks [193 out of 357] ..\n",
      "results for Nature-related physical risks: 64\n",
      "processing term Nature-related systemic risks [196 out of 357] ..\n",
      "results for Nature-related systemic risks: 43\n",
      "processing term Nature-related transition risks [197 out of 357] ..\n",
      "results for Nature-related transition risks: 60\n"
     ]
    }
   ],
   "source": [
    "all_terms_similar_embeddings = pd.DataFrame()\n",
    "\n",
    "# fetch biodiv. subset from database\n",
    "driver, biodiversity_subset = get_biodiversity_subset(time_frame,chunks_per_year=100000,streamlit_secret=False)\n",
    "\n",
    "for i, row in risks_opportunities_tnfd_glossary.iterrows():\n",
    "    \n",
    "    term = row['Term']\n",
    "    embedding = row['embedding']\n",
    "\n",
    "    print(f'processing term {term} [{i} out of {len(df_tfnd_glossary_2023)}] ..')\n",
    "\n",
    "    chunks = fetch_chunks_for_term_for_years_biodiv_subset(driver,\n",
    "                                                           time_frame,\n",
    "                                                           term,\n",
    "                                                           embedding,\n",
    "                                                           biodiversity_subset, \n",
    "                                                           streamlit_secret=False,\n",
    "                                                           chunks_per_year=100)\n",
    "    results = pd.DataFrame(chunks)\n",
    "    results['term_embedding'] = [np.array(embedding, dtype=np.float32)] * len(results)\n",
    "    results['term'] = term\n",
    "\n",
    "    print(f'results for {term}: {len(results)}')\n",
    "    \n",
    "    all_terms_similar_embeddings = pd.concat([all_terms_similar_embeddings, results])\n"
   ]
  }
 ],
 "metadata": {
  "kernelspec": {
   "display_name": ".venv",
   "language": "python",
   "name": "python3"
  },
  "language_info": {
   "codemirror_mode": {
    "name": "ipython",
    "version": 3
   },
   "file_extension": ".py",
   "mimetype": "text/x-python",
   "name": "python",
   "nbconvert_exporter": "python",
   "pygments_lexer": "ipython3",
   "version": "3.9.6"
  }
 },
 "nbformat": 4,
 "nbformat_minor": 2
}
