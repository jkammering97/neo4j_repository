{
 "cells": [
  {
   "cell_type": "markdown",
   "metadata": {},
   "source": [
    "# Data Retrieving"
   ]
  },
  {
   "cell_type": "code",
   "execution_count": 6,
   "metadata": {},
   "outputs": [
    {
     "name": "stderr",
     "output_type": "stream",
     "text": [
      "/Users/joey/Desktop/uni/Master/neo4j_repository/.venv/lib/python3.9/site-packages/urllib3/__init__.py:35: NotOpenSSLWarning: urllib3 v2 only supports OpenSSL 1.1.1+, currently the 'ssl' module is compiled with 'LibreSSL 2.8.3'. See: https://github.com/urllib3/urllib3/issues/3020\n",
      "  warnings.warn(\n"
     ]
    }
   ],
   "source": [
    "import pandas as pd\n",
    "from neo4j_access import *\n",
    "import numpy as np"
   ]
  },
  {
   "cell_type": "code",
   "execution_count": 8,
   "metadata": {},
   "outputs": [],
   "source": [
    "query = \"MATCH (s:Statement)-[:WAS_GIVEN_AT]->(e:ECC) RETURN e.time as datetime, e.title as conference_name, s.text as statement LIMIT 100000\" "
   ]
  },
  {
   "cell_type": "code",
   "execution_count": 26,
   "metadata": {},
   "outputs": [
    {
     "name": "stdout",
     "output_type": "stream",
     "text": [
      "Planner COST\n",
      "\n",
      "Runtime SLOTTED\n",
      "\n",
      "Runtime version 5.12\n",
      "\n",
      "+------------------+----+-----------------------------------------------------------------------------------+----------------+\n",
      "| Operator         | Id | Details                                                                           | Estimated Rows |\n",
      "+------------------+----+-----------------------------------------------------------------------------------+----------------+\n",
      "| +ProduceResults  |  0 | datetime, conference_name, statement                                              |         100000 |\n",
      "| |                +----+-----------------------------------------------------------------------------------+----------------+\n",
      "| +Projection      |  1 | cache[e.time] AS datetime, cache[e.title] AS conference_name, s.text AS statement |         100000 |\n",
      "| |                +----+-----------------------------------------------------------------------------------+----------------+\n",
      "| +Limit           |  2 | 100000                                                                            |         100000 |\n",
      "| |                +----+-----------------------------------------------------------------------------------+----------------+\n",
      "| +Filter          |  3 | s:Statement                                                                       |         100000 |\n",
      "| |                +----+-----------------------------------------------------------------------------------+----------------+\n",
      "| +Expand(All)     |  4 | (e)<-[anon_0:WAS_GIVEN_AT]-(s)                                                    |         100000 |\n",
      "| |                +----+-----------------------------------------------------------------------------------+----------------+\n",
      "| +CacheProperties |  5 | cache[e.title], cache[e.time]                                                     |           1607 |\n",
      "| |                +----+-----------------------------------------------------------------------------------+----------------+\n",
      "| +NodeByLabelScan |  6 | e:ECC                                                                             |           1607 |\n",
      "+------------------+----+-----------------------------------------------------------------------------------+----------------+\n",
      "\n",
      "Total database accesses: ?\n",
      "\n"
     ]
    },
    {
     "ename": "KeyboardInterrupt",
     "evalue": "",
     "output_type": "error",
     "traceback": [
      "\u001b[0;31m---------------------------------------------------------------------------\u001b[0m",
      "\u001b[0;31mKeyboardInterrupt\u001b[0m                         Traceback (most recent call last)",
      "Cell \u001b[0;32mIn[26], line 2\u001b[0m\n\u001b[1;32m      1\u001b[0m QueryNeo4J\u001b[38;5;241m.\u001b[39minitialize()\n\u001b[0;32m----> 2\u001b[0m df \u001b[38;5;241m=\u001b[39m \u001b[43mQueryNeo4J\u001b[49m\u001b[38;5;241;43m.\u001b[39;49m\u001b[43mcommit_query\u001b[49m\u001b[43m(\u001b[49m\u001b[43mquery\u001b[49m\u001b[38;5;241;43m=\u001b[39;49m\u001b[43mquery\u001b[49m\u001b[43m)\u001b[49m\n",
      "File \u001b[0;32m~/Desktop/uni/Master/neo4j_repository/neo4j_access.py:38\u001b[0m, in \u001b[0;36mQueryNeo4J.commit_query\u001b[0;34m(cls, query, params)\u001b[0m\n\u001b[1;32m     36\u001b[0m start_time \u001b[38;5;241m=\u001b[39m time\u001b[38;5;241m.\u001b[39mtime()\n\u001b[1;32m     37\u001b[0m result \u001b[38;5;241m=\u001b[39m session\u001b[38;5;241m.\u001b[39mrun(query, params)\n\u001b[0;32m---> 38\u001b[0m \u001b[38;5;28mcls\u001b[39m\u001b[38;5;241m.\u001b[39mresult_data_dict \u001b[38;5;241m=\u001b[39m [record\u001b[38;5;241m.\u001b[39mdata() \u001b[38;5;28;01mfor\u001b[39;00m record \u001b[38;5;129;01min\u001b[39;00m result]\n\u001b[1;32m     39\u001b[0m end_time \u001b[38;5;241m=\u001b[39m time\u001b[38;5;241m.\u001b[39mtime()\n\u001b[1;32m     41\u001b[0m \u001b[38;5;28mprint\u001b[39m(\u001b[38;5;124mf\u001b[39m\u001b[38;5;124m\"\u001b[39m\u001b[38;5;130;01m\\n\u001b[39;00m\u001b[38;5;124mquery Execution Time: \u001b[39m\u001b[38;5;132;01m{\u001b[39;00mend_time\u001b[38;5;250m \u001b[39m\u001b[38;5;241m-\u001b[39m\u001b[38;5;250m \u001b[39mstart_time\u001b[38;5;132;01m:\u001b[39;00m\u001b[38;5;124m.6f\u001b[39m\u001b[38;5;132;01m}\u001b[39;00m\u001b[38;5;124m seconds\u001b[39m\u001b[38;5;124m\"\u001b[39m)\n",
      "File \u001b[0;32m~/Desktop/uni/Master/neo4j_repository/neo4j_access.py:38\u001b[0m, in \u001b[0;36m<listcomp>\u001b[0;34m(.0)\u001b[0m\n\u001b[1;32m     36\u001b[0m start_time \u001b[38;5;241m=\u001b[39m time\u001b[38;5;241m.\u001b[39mtime()\n\u001b[1;32m     37\u001b[0m result \u001b[38;5;241m=\u001b[39m session\u001b[38;5;241m.\u001b[39mrun(query, params)\n\u001b[0;32m---> 38\u001b[0m \u001b[38;5;28mcls\u001b[39m\u001b[38;5;241m.\u001b[39mresult_data_dict \u001b[38;5;241m=\u001b[39m [record\u001b[38;5;241m.\u001b[39mdata() \u001b[38;5;28;01mfor\u001b[39;00m record \u001b[38;5;129;01min\u001b[39;00m result]\n\u001b[1;32m     39\u001b[0m end_time \u001b[38;5;241m=\u001b[39m time\u001b[38;5;241m.\u001b[39mtime()\n\u001b[1;32m     41\u001b[0m \u001b[38;5;28mprint\u001b[39m(\u001b[38;5;124mf\u001b[39m\u001b[38;5;124m\"\u001b[39m\u001b[38;5;130;01m\\n\u001b[39;00m\u001b[38;5;124mquery Execution Time: \u001b[39m\u001b[38;5;132;01m{\u001b[39;00mend_time\u001b[38;5;250m \u001b[39m\u001b[38;5;241m-\u001b[39m\u001b[38;5;250m \u001b[39mstart_time\u001b[38;5;132;01m:\u001b[39;00m\u001b[38;5;124m.6f\u001b[39m\u001b[38;5;132;01m}\u001b[39;00m\u001b[38;5;124m seconds\u001b[39m\u001b[38;5;124m\"\u001b[39m)\n",
      "File \u001b[0;32m~/Desktop/uni/Master/neo4j_repository/.venv/lib/python3.9/site-packages/neo4j/_sync/work/result.py:393\u001b[0m, in \u001b[0;36mResult.__iter__\u001b[0;34m(self)\u001b[0m\n\u001b[1;32m    391\u001b[0m     \u001b[38;5;28;01myield\u001b[39;00m \u001b[38;5;28mself\u001b[39m\u001b[38;5;241m.\u001b[39m_record_buffer\u001b[38;5;241m.\u001b[39mpopleft()\n\u001b[1;32m    392\u001b[0m \u001b[38;5;28;01melif\u001b[39;00m \u001b[38;5;28mself\u001b[39m\u001b[38;5;241m.\u001b[39m_streaming:\n\u001b[0;32m--> 393\u001b[0m     \u001b[38;5;28;43mself\u001b[39;49m\u001b[38;5;241;43m.\u001b[39;49m\u001b[43m_connection\u001b[49m\u001b[38;5;241;43m.\u001b[39;49m\u001b[43mfetch_message\u001b[49m\u001b[43m(\u001b[49m\u001b[43m)\u001b[49m\n\u001b[1;32m    394\u001b[0m \u001b[38;5;28;01melif\u001b[39;00m \u001b[38;5;28mself\u001b[39m\u001b[38;5;241m.\u001b[39m_discarding:\n\u001b[1;32m    395\u001b[0m     \u001b[38;5;28mself\u001b[39m\u001b[38;5;241m.\u001b[39m_discard()\n",
      "File \u001b[0;32m~/Desktop/uni/Master/neo4j_repository/.venv/lib/python3.9/site-packages/neo4j/_sync/io/_common.py:184\u001b[0m, in \u001b[0;36mConnectionErrorHandler.__getattr__.<locals>.outer.<locals>.inner\u001b[0;34m(*args, **kwargs)\u001b[0m\n\u001b[1;32m    182\u001b[0m \u001b[38;5;28;01mdef\u001b[39;00m\u001b[38;5;250m \u001b[39m\u001b[38;5;21minner\u001b[39m(\u001b[38;5;241m*\u001b[39margs, \u001b[38;5;241m*\u001b[39m\u001b[38;5;241m*\u001b[39mkwargs):\n\u001b[1;32m    183\u001b[0m     \u001b[38;5;28;01mtry\u001b[39;00m:\n\u001b[0;32m--> 184\u001b[0m         \u001b[43mfunc\u001b[49m\u001b[43m(\u001b[49m\u001b[38;5;241;43m*\u001b[39;49m\u001b[43margs\u001b[49m\u001b[43m,\u001b[49m\u001b[43m \u001b[49m\u001b[38;5;241;43m*\u001b[39;49m\u001b[38;5;241;43m*\u001b[39;49m\u001b[43mkwargs\u001b[49m\u001b[43m)\u001b[49m\n\u001b[1;32m    185\u001b[0m     \u001b[38;5;28;01mexcept\u001b[39;00m (Neo4jError, ServiceUnavailable, SessionExpired) \u001b[38;5;28;01mas\u001b[39;00m exc:\n\u001b[1;32m    186\u001b[0m         \u001b[38;5;28;01massert\u001b[39;00m \u001b[38;5;129;01mnot\u001b[39;00m asyncio\u001b[38;5;241m.\u001b[39miscoroutinefunction(\u001b[38;5;28mself\u001b[39m\u001b[38;5;241m.\u001b[39m__on_error)\n",
      "File \u001b[0;32m~/Desktop/uni/Master/neo4j_repository/.venv/lib/python3.9/site-packages/neo4j/_sync/io/_bolt.py:991\u001b[0m, in \u001b[0;36mBolt.fetch_message\u001b[0;34m(self)\u001b[0m\n\u001b[1;32m    988\u001b[0m     \u001b[38;5;28;01mreturn\u001b[39;00m \u001b[38;5;241m0\u001b[39m, \u001b[38;5;241m0\u001b[39m\n\u001b[1;32m    990\u001b[0m \u001b[38;5;66;03m# Receive exactly one message\u001b[39;00m\n\u001b[0;32m--> 991\u001b[0m tag, fields \u001b[38;5;241m=\u001b[39m \u001b[38;5;28;43mself\u001b[39;49m\u001b[38;5;241;43m.\u001b[39;49m\u001b[43minbox\u001b[49m\u001b[38;5;241;43m.\u001b[39;49m\u001b[43mpop\u001b[49m\u001b[43m(\u001b[49m\n\u001b[1;32m    992\u001b[0m \u001b[43m    \u001b[49m\u001b[43mhydration_hooks\u001b[49m\u001b[38;5;241;43m=\u001b[39;49m\u001b[38;5;28;43mself\u001b[39;49m\u001b[38;5;241;43m.\u001b[39;49m\u001b[43mresponses\u001b[49m\u001b[43m[\u001b[49m\u001b[38;5;241;43m0\u001b[39;49m\u001b[43m]\u001b[49m\u001b[38;5;241;43m.\u001b[39;49m\u001b[43mhydration_hooks\u001b[49m\n\u001b[1;32m    993\u001b[0m \u001b[43m\u001b[49m\u001b[43m)\u001b[49m\n\u001b[1;32m    994\u001b[0m res \u001b[38;5;241m=\u001b[39m \u001b[38;5;28mself\u001b[39m\u001b[38;5;241m.\u001b[39m_process_message(tag, fields)\n\u001b[1;32m    995\u001b[0m \u001b[38;5;28mself\u001b[39m\u001b[38;5;241m.\u001b[39midle_since \u001b[38;5;241m=\u001b[39m monotonic()\n",
      "File \u001b[0;32m~/Desktop/uni/Master/neo4j_repository/.venv/lib/python3.9/site-packages/neo4j/_sync/io/_common.py:80\u001b[0m, in \u001b[0;36mInbox.pop\u001b[0;34m(self, hydration_hooks)\u001b[0m\n\u001b[1;32m     78\u001b[0m \u001b[38;5;28;01mtry\u001b[39;00m:\n\u001b[1;32m     79\u001b[0m     size, tag \u001b[38;5;241m=\u001b[39m \u001b[38;5;28mself\u001b[39m\u001b[38;5;241m.\u001b[39m_unpacker\u001b[38;5;241m.\u001b[39munpack_structure_header()\n\u001b[0;32m---> 80\u001b[0m     fields \u001b[38;5;241m=\u001b[39m [\n\u001b[1;32m     81\u001b[0m         \u001b[38;5;28mself\u001b[39m\u001b[38;5;241m.\u001b[39m_unpacker\u001b[38;5;241m.\u001b[39munpack(hydration_hooks) \u001b[38;5;28;01mfor\u001b[39;00m _ \u001b[38;5;129;01min\u001b[39;00m \u001b[38;5;28mrange\u001b[39m(size)\n\u001b[1;32m     82\u001b[0m     ]\n\u001b[1;32m     83\u001b[0m     \u001b[38;5;28;01mreturn\u001b[39;00m tag, fields\n\u001b[1;32m     84\u001b[0m \u001b[38;5;28;01mfinally\u001b[39;00m:\n\u001b[1;32m     85\u001b[0m     \u001b[38;5;66;03m# Reset for new message\u001b[39;00m\n",
      "File \u001b[0;32m~/Desktop/uni/Master/neo4j_repository/.venv/lib/python3.9/site-packages/neo4j/_sync/io/_common.py:81\u001b[0m, in \u001b[0;36m<listcomp>\u001b[0;34m(.0)\u001b[0m\n\u001b[1;32m     78\u001b[0m \u001b[38;5;28;01mtry\u001b[39;00m:\n\u001b[1;32m     79\u001b[0m     size, tag \u001b[38;5;241m=\u001b[39m \u001b[38;5;28mself\u001b[39m\u001b[38;5;241m.\u001b[39m_unpacker\u001b[38;5;241m.\u001b[39munpack_structure_header()\n\u001b[1;32m     80\u001b[0m     fields \u001b[38;5;241m=\u001b[39m [\n\u001b[0;32m---> 81\u001b[0m         \u001b[38;5;28;43mself\u001b[39;49m\u001b[38;5;241;43m.\u001b[39;49m\u001b[43m_unpacker\u001b[49m\u001b[38;5;241;43m.\u001b[39;49m\u001b[43munpack\u001b[49m\u001b[43m(\u001b[49m\u001b[43mhydration_hooks\u001b[49m\u001b[43m)\u001b[49m \u001b[38;5;28;01mfor\u001b[39;00m _ \u001b[38;5;129;01min\u001b[39;00m \u001b[38;5;28mrange\u001b[39m(size)\n\u001b[1;32m     82\u001b[0m     ]\n\u001b[1;32m     83\u001b[0m     \u001b[38;5;28;01mreturn\u001b[39;00m tag, fields\n\u001b[1;32m     84\u001b[0m \u001b[38;5;28;01mfinally\u001b[39;00m:\n\u001b[1;32m     85\u001b[0m     \u001b[38;5;66;03m# Reset for new message\u001b[39;00m\n",
      "File \u001b[0;32m~/Desktop/uni/Master/neo4j_repository/.venv/lib/python3.9/site-packages/neo4j/_codec/packstream/v1/__init__.py:298\u001b[0m, in \u001b[0;36mUnpacker.unpack\u001b[0;34m(self, hydration_hooks)\u001b[0m\n\u001b[1;32m    297\u001b[0m \u001b[38;5;28;01mdef\u001b[39;00m\u001b[38;5;250m \u001b[39m\u001b[38;5;21munpack\u001b[39m(\u001b[38;5;28mself\u001b[39m, hydration_hooks\u001b[38;5;241m=\u001b[39m\u001b[38;5;28;01mNone\u001b[39;00m):\n\u001b[0;32m--> 298\u001b[0m     \u001b[38;5;28;01mreturn\u001b[39;00m \u001b[38;5;28;43mself\u001b[39;49m\u001b[38;5;241;43m.\u001b[39;49m\u001b[43m_unpack\u001b[49m\u001b[43m(\u001b[49m\u001b[43mhydration_hooks\u001b[49m\u001b[38;5;241;43m=\u001b[39;49m\u001b[43mhydration_hooks\u001b[49m\u001b[43m)\u001b[49m\n",
      "File \u001b[0;32m~/Desktop/uni/Master/neo4j_repository/.venv/lib/python3.9/site-packages/neo4j/_codec/packstream/v1/__init__.py:365\u001b[0m, in \u001b[0;36mUnpacker._unpack\u001b[0;34m(self, hydration_hooks)\u001b[0m\n\u001b[1;32m    363\u001b[0m \u001b[38;5;66;03m# List\u001b[39;00m\n\u001b[1;32m    364\u001b[0m \u001b[38;5;28;01melif\u001b[39;00m \u001b[38;5;241m0x90\u001b[39m \u001b[38;5;241m<\u001b[39m\u001b[38;5;241m=\u001b[39m marker \u001b[38;5;241m<\u001b[39m\u001b[38;5;241m=\u001b[39m \u001b[38;5;241m0x9F\u001b[39m \u001b[38;5;129;01mor\u001b[39;00m \u001b[38;5;241m0xD4\u001b[39m \u001b[38;5;241m<\u001b[39m\u001b[38;5;241m=\u001b[39m marker \u001b[38;5;241m<\u001b[39m\u001b[38;5;241m=\u001b[39m \u001b[38;5;241m0xD6\u001b[39m:\n\u001b[0;32m--> 365\u001b[0m     \u001b[38;5;28;01mreturn\u001b[39;00m \u001b[38;5;28;43mlist\u001b[39;49m\u001b[43m(\u001b[49m\n\u001b[1;32m    366\u001b[0m \u001b[43m        \u001b[49m\u001b[38;5;28;43mself\u001b[39;49m\u001b[38;5;241;43m.\u001b[39;49m\u001b[43m_unpack_list_items\u001b[49m\u001b[43m(\u001b[49m\n\u001b[1;32m    367\u001b[0m \u001b[43m            \u001b[49m\u001b[43mmarker\u001b[49m\u001b[43m,\u001b[49m\u001b[43m \u001b[49m\u001b[43mhydration_hooks\u001b[49m\u001b[38;5;241;43m=\u001b[39;49m\u001b[43mhydration_hooks\u001b[49m\n\u001b[1;32m    368\u001b[0m \u001b[43m        \u001b[49m\u001b[43m)\u001b[49m\n\u001b[1;32m    369\u001b[0m \u001b[43m    \u001b[49m\u001b[43m)\u001b[49m\n\u001b[1;32m    371\u001b[0m \u001b[38;5;66;03m# Map\u001b[39;00m\n\u001b[1;32m    372\u001b[0m \u001b[38;5;28;01melif\u001b[39;00m \u001b[38;5;241m0xA0\u001b[39m \u001b[38;5;241m<\u001b[39m\u001b[38;5;241m=\u001b[39m marker \u001b[38;5;241m<\u001b[39m\u001b[38;5;241m=\u001b[39m \u001b[38;5;241m0xAF\u001b[39m \u001b[38;5;129;01mor\u001b[39;00m \u001b[38;5;241m0xD8\u001b[39m \u001b[38;5;241m<\u001b[39m\u001b[38;5;241m=\u001b[39m marker \u001b[38;5;241m<\u001b[39m\u001b[38;5;241m=\u001b[39m \u001b[38;5;241m0xDA\u001b[39m:\n",
      "File \u001b[0;32m~/Desktop/uni/Master/neo4j_repository/.venv/lib/python3.9/site-packages/neo4j/_codec/packstream/v1/__init__.py:403\u001b[0m, in \u001b[0;36mUnpacker._unpack_list_items\u001b[0;34m(self, marker, hydration_hooks)\u001b[0m\n\u001b[1;32m    401\u001b[0m     \u001b[38;5;28;01melse\u001b[39;00m:\n\u001b[1;32m    402\u001b[0m         \u001b[38;5;28;01mfor\u001b[39;00m _ \u001b[38;5;129;01min\u001b[39;00m \u001b[38;5;28mrange\u001b[39m(size):\n\u001b[0;32m--> 403\u001b[0m             \u001b[38;5;28;01myield\u001b[39;00m \u001b[38;5;28;43mself\u001b[39;49m\u001b[38;5;241;43m.\u001b[39;49m\u001b[43m_unpack\u001b[49m\u001b[43m(\u001b[49m\u001b[43mhydration_hooks\u001b[49m\u001b[38;5;241;43m=\u001b[39;49m\u001b[43mhydration_hooks\u001b[49m\u001b[43m)\u001b[49m\n\u001b[1;32m    404\u001b[0m \u001b[38;5;28;01melif\u001b[39;00m marker \u001b[38;5;241m==\u001b[39m \u001b[38;5;241m0xD4\u001b[39m:  \u001b[38;5;66;03m# LIST_8:\u001b[39;00m\n\u001b[1;32m    405\u001b[0m     (size,) \u001b[38;5;241m=\u001b[39m struct_unpack(\u001b[38;5;124m\"\u001b[39m\u001b[38;5;124m>B\u001b[39m\u001b[38;5;124m\"\u001b[39m, \u001b[38;5;28mself\u001b[39m\u001b[38;5;241m.\u001b[39mread(\u001b[38;5;241m1\u001b[39m))\n",
      "File \u001b[0;32m~/Desktop/uni/Master/neo4j_repository/.venv/lib/python3.9/site-packages/neo4j/_codec/packstream/v1/__init__.py:301\u001b[0m, in \u001b[0;36mUnpacker._unpack\u001b[0;34m(self, hydration_hooks)\u001b[0m\n\u001b[1;32m    300\u001b[0m \u001b[38;5;28;01mdef\u001b[39;00m\u001b[38;5;250m \u001b[39m\u001b[38;5;21m_unpack\u001b[39m(\u001b[38;5;28mself\u001b[39m, hydration_hooks\u001b[38;5;241m=\u001b[39m\u001b[38;5;28;01mNone\u001b[39;00m):\n\u001b[0;32m--> 301\u001b[0m     marker \u001b[38;5;241m=\u001b[39m \u001b[38;5;28;43mself\u001b[39;49m\u001b[38;5;241;43m.\u001b[39;49m\u001b[43mread_u8\u001b[49m\u001b[43m(\u001b[49m\u001b[43m)\u001b[49m\n\u001b[1;32m    303\u001b[0m     \u001b[38;5;28;01mif\u001b[39;00m marker \u001b[38;5;241m==\u001b[39m \u001b[38;5;241m-\u001b[39m\u001b[38;5;241m1\u001b[39m:\n\u001b[1;32m    304\u001b[0m         \u001b[38;5;28;01mraise\u001b[39;00m \u001b[38;5;167;01mValueError\u001b[39;00m(\u001b[38;5;124m\"\u001b[39m\u001b[38;5;124mNothing to unpack\u001b[39m\u001b[38;5;124m\"\u001b[39m)\n",
      "File \u001b[0;32m~/Desktop/uni/Master/neo4j_repository/.venv/lib/python3.9/site-packages/neo4j/_codec/packstream/v1/__init__.py:285\u001b[0m, in \u001b[0;36mUnpacker.read_u8\u001b[0;34m(self)\u001b[0m\n\u001b[1;32m    284\u001b[0m \u001b[38;5;28;01mdef\u001b[39;00m\u001b[38;5;250m \u001b[39m\u001b[38;5;21mread_u8\u001b[39m(\u001b[38;5;28mself\u001b[39m):\n\u001b[0;32m--> 285\u001b[0m     \u001b[38;5;28;01mreturn\u001b[39;00m \u001b[38;5;28;43mself\u001b[39;49m\u001b[38;5;241;43m.\u001b[39;49m\u001b[43munpackable\u001b[49m\u001b[38;5;241;43m.\u001b[39;49m\u001b[43mread_u8\u001b[49m\u001b[43m(\u001b[49m\u001b[43m)\u001b[49m\n",
      "File \u001b[0;32m~/Desktop/uni/Master/neo4j_repository/.venv/lib/python3.9/site-packages/neo4j/_codec/packstream/v1/__init__.py:502\u001b[0m, in \u001b[0;36mUnpackableBuffer.read_u8\u001b[0;34m(self)\u001b[0m\n\u001b[1;32m    500\u001b[0m \u001b[38;5;28;01mif\u001b[39;00m \u001b[38;5;28mself\u001b[39m\u001b[38;5;241m.\u001b[39mused \u001b[38;5;241m-\u001b[39m \u001b[38;5;28mself\u001b[39m\u001b[38;5;241m.\u001b[39mp \u001b[38;5;241m>\u001b[39m\u001b[38;5;241m=\u001b[39m \u001b[38;5;241m1\u001b[39m:\n\u001b[1;32m    501\u001b[0m     value \u001b[38;5;241m=\u001b[39m \u001b[38;5;28mself\u001b[39m\u001b[38;5;241m.\u001b[39mdata[\u001b[38;5;28mself\u001b[39m\u001b[38;5;241m.\u001b[39mp]\n\u001b[0;32m--> 502\u001b[0m     \u001b[38;5;28mself\u001b[39m\u001b[38;5;241m.\u001b[39mp \u001b[38;5;241m+\u001b[39m\u001b[38;5;241m=\u001b[39m \u001b[38;5;241m1\u001b[39m\n\u001b[1;32m    503\u001b[0m     \u001b[38;5;28;01mreturn\u001b[39;00m value\n\u001b[1;32m    504\u001b[0m \u001b[38;5;28;01melse\u001b[39;00m:\n",
      "\u001b[0;31mKeyboardInterrupt\u001b[0m: "
     ]
    }
   ],
   "source": [
    "QueryNeo4J.initialize()\n",
    "df = QueryNeo4J.commit_query(query=query)"
   ]
  },
  {
   "cell_type": "code",
   "execution_count": 10,
   "metadata": {},
   "outputs": [],
   "source": [
    "df[\"datetime\"] = df[\"datetime\"].astype(str)  # Convert Neo4j DateTime to string\n",
    "df[\"datetime\"] = pd.to_datetime(df[\"datetime\"])  # Convert string to Pandas datetime"
   ]
  },
  {
   "cell_type": "code",
   "execution_count": 11,
   "metadata": {},
   "outputs": [
    {
     "name": "stdout",
     "output_type": "stream",
     "text": [
      "<class 'pandas.core.frame.DataFrame'>\n",
      "RangeIndex: 100000 entries, 0 to 99999\n",
      "Data columns (total 3 columns):\n",
      " #   Column           Non-Null Count   Dtype              \n",
      "---  ------           --------------   -----              \n",
      " 0   datetime         100000 non-null  datetime64[ns, UTC]\n",
      " 1   conference_name  100000 non-null  object             \n",
      " 2   statement        100000 non-null  object             \n",
      "dtypes: datetime64[ns, UTC](1), object(2)\n",
      "memory usage: 2.3+ MB\n"
     ]
    }
   ],
   "source": [
    "df.info()\n",
    "df.to_pickle('data/biodiversity_dataset_random_subset.pkl')\n"
   ]
  },
  {
   "cell_type": "code",
   "execution_count": 12,
   "metadata": {},
   "outputs": [],
   "source": [
    "df['before_tnfd_2022'] = np.where(pd.to_datetime(df['datetime']) < pd.Timestamp(\"2022-01-01\", tz=\"UTC\"), 1, 0)"
   ]
  },
  {
   "cell_type": "code",
   "execution_count": 13,
   "metadata": {},
   "outputs": [
    {
     "data": {
      "text/plain": [
       "before_tnfd_2022\n",
       "1    92926\n",
       "0     7074\n",
       "Name: count, dtype: int64"
      ]
     },
     "execution_count": 13,
     "metadata": {},
     "output_type": "execute_result"
    }
   ],
   "source": [
    "df[\"before_tnfd_2022\"].value_counts()"
   ]
  },
  {
   "cell_type": "markdown",
   "metadata": {},
   "source": [
    "# Models"
   ]
  },
  {
   "cell_type": "code",
   "execution_count": 27,
   "metadata": {},
   "outputs": [],
   "source": [
    "df = pd.read_pickle('data/biodiversity_dataset_random_subset.pkl')"
   ]
  },
  {
   "cell_type": "code",
   "execution_count": 29,
   "metadata": {},
   "outputs": [
    {
     "data": {
      "text/html": [
       "<div>\n",
       "<style scoped>\n",
       "    .dataframe tbody tr th:only-of-type {\n",
       "        vertical-align: middle;\n",
       "    }\n",
       "\n",
       "    .dataframe tbody tr th {\n",
       "        vertical-align: top;\n",
       "    }\n",
       "\n",
       "    .dataframe thead th {\n",
       "        text-align: right;\n",
       "    }\n",
       "</style>\n",
       "<table border=\"1\" class=\"dataframe\">\n",
       "  <thead>\n",
       "    <tr style=\"text-align: right;\">\n",
       "      <th></th>\n",
       "      <th>datetime</th>\n",
       "      <th>conference_name</th>\n",
       "      <th>statement</th>\n",
       "    </tr>\n",
       "  </thead>\n",
       "  <tbody>\n",
       "    <tr>\n",
       "      <th>0</th>\n",
       "      <td>2022-07-21 03:01:00+00:00</td>\n",
       "      <td>005490.KS - Earnings call Q2 2022</td>\n",
       "      <td>Next, we love to hear from Han Sung of Yuanta ...</td>\n",
       "    </tr>\n",
       "  </tbody>\n",
       "</table>\n",
       "</div>"
      ],
      "text/plain": [
       "                   datetime                    conference_name  \\\n",
       "0 2022-07-21 03:01:00+00:00  005490.KS - Earnings call Q2 2022   \n",
       "\n",
       "                                           statement  \n",
       "0  Next, we love to hear from Han Sung of Yuanta ...  "
      ]
     },
     "execution_count": 29,
     "metadata": {},
     "output_type": "execute_result"
    }
   ],
   "source": [
    "df.head(1)"
   ]
  },
  {
   "cell_type": "code",
   "execution_count": 17,
   "metadata": {},
   "outputs": [],
   "source": [
    "def classify_df(df, text_column, pipe, pipe_name):\n",
    "    \"\"\"\n",
    "    Function that classifies text from a DataFrame using Hugging Face pipeline.\n",
    "    \n",
    "    Parameters:\n",
    "    - df: Pandas DataFrame containing the text to classify.\n",
    "    - text_column: Column name in the DataFrame that contains report texts.\n",
    "    - pipe: Hugging Face pipeline for classification.\n",
    "    - pipe_name: Column name for classification output.\n",
    "    \n",
    "    Returns:\n",
    "    - df_result: DataFrame with classifications.\n",
    "    \"\"\"\n",
    "\n",
    "    print(f\"\\nClassifying {pipe_name} labels...\")\n",
    "\n",
    "    # Use apply() to process each row independently (vectorized approach)\n",
    "    df[pipe_name] = df[text_column].apply(lambda text: pipe(text, truncation=True, padding=True)[0][\"label\"])\n",
    "\n",
    "    # Filter only rows that were classified as the desired label\n",
    "    df_result = df.copy()\n",
    "\n",
    "    return df_result"
   ]
  },
  {
   "cell_type": "code",
   "execution_count": null,
   "metadata": {},
   "outputs": [
    {
     "name": "stderr",
     "output_type": "stream",
     "text": [
      "Device set to use mps:0\n",
      "Device set to use mps:0\n"
     ]
    }
   ],
   "source": [
    "name = \"ESGBERT/EnvironmentalBERT-environmental\" # path to download from HuggingFace\n",
    "\n",
    "tokenizer = AutoTokenizer.from_pretrained(name)\n",
    "model = AutoModelForSequenceClassification.from_pretrained(name)\n",
    "# The pipeline combines tokenizer and model to one process.\n",
    "pipe_env = pipeline(\"text-classification\", model=model, tokenizer=tokenizer)\n"
   ]
  },
  {
   "cell_type": "code",
   "execution_count": 23,
   "metadata": {},
   "outputs": [
    {
     "name": "stdout",
     "output_type": "stream",
     "text": [
      "\n",
      "Classifying environmental labels...\n"
     ]
    }
   ],
   "source": [
    "df = classify_df(df, text_column=\"statement\", pipe=pipe_env, pipe_name='environmental')"
   ]
  },
  {
   "cell_type": "code",
   "execution_count": null,
   "metadata": {},
   "outputs": [
    {
     "name": "stderr",
     "output_type": "stream",
     "text": [
      "/Users/joey/Desktop/uni/Master/neo4j_repository/.venv/lib/python3.9/site-packages/tqdm/auto.py:21: TqdmWarning: IProgress not found. Please update jupyter and ipywidgets. See https://ipywidgets.readthedocs.io/en/stable/user_install.html\n",
      "  from .autonotebook import tqdm as notebook_tqdm\n",
      "Device set to use mps:0\n"
     ]
    }
   ],
   "source": [
    "from transformers import AutoModelForSequenceClassification, AutoTokenizer, pipeline\n",
    "\n",
    "model = AutoModelForSequenceClassification.from_pretrained(\"ESGBERT/EnvironmentalBERT-biodiversity\")\n",
    "tokenizer = AutoTokenizer.from_pretrained(\"ESGBERT/EnvironmentalBERT-biodiversity\", max_len=512)\n",
    "\n",
    "pipe_biodiversity = pipeline(\"text-classification\", model=model, tokenizer=tokenizer) # set device=0 to use GPU"
   ]
  },
  {
   "cell_type": "code",
   "execution_count": null,
   "metadata": {},
   "outputs": [
    {
     "name": "stdout",
     "output_type": "stream",
     "text": [
      "\n",
      "Classifying biodiversity labels...\n"
     ]
    }
   ],
   "source": [
    "df_ = classify_df(df, text_column='statement', pipe=pipe_biodiversity, pipe_name='biodiversity')"
   ]
  },
  {
   "cell_type": "code",
   "execution_count": 25,
   "metadata": {},
   "outputs": [
    {
     "data": {
      "text/html": [
       "<div>\n",
       "<style scoped>\n",
       "    .dataframe tbody tr th:only-of-type {\n",
       "        vertical-align: middle;\n",
       "    }\n",
       "\n",
       "    .dataframe tbody tr th {\n",
       "        vertical-align: top;\n",
       "    }\n",
       "\n",
       "    .dataframe thead th {\n",
       "        text-align: right;\n",
       "    }\n",
       "</style>\n",
       "<table border=\"1\" class=\"dataframe\">\n",
       "  <thead>\n",
       "    <tr style=\"text-align: right;\">\n",
       "      <th></th>\n",
       "      <th>datetime</th>\n",
       "      <th>conference_name</th>\n",
       "      <th>statement</th>\n",
       "      <th>biodiversity</th>\n",
       "    </tr>\n",
       "  </thead>\n",
       "  <tbody>\n",
       "    <tr>\n",
       "      <th>count</th>\n",
       "      <td>5000</td>\n",
       "      <td>5000</td>\n",
       "      <td>5000</td>\n",
       "      <td>5000</td>\n",
       "    </tr>\n",
       "    <tr>\n",
       "      <th>unique</th>\n",
       "      <td>NaN</td>\n",
       "      <td>30</td>\n",
       "      <td>4637</td>\n",
       "      <td>1</td>\n",
       "    </tr>\n",
       "    <tr>\n",
       "      <th>top</th>\n",
       "      <td>NaN</td>\n",
       "      <td>Earnings call Q1 2012</td>\n",
       "      <td>Yes.</td>\n",
       "      <td>none</td>\n",
       "    </tr>\n",
       "    <tr>\n",
       "      <th>freq</th>\n",
       "      <td>NaN</td>\n",
       "      <td>402</td>\n",
       "      <td>49</td>\n",
       "      <td>5000</td>\n",
       "    </tr>\n",
       "    <tr>\n",
       "      <th>mean</th>\n",
       "      <td>2014-04-14 20:12:53.760000+00:00</td>\n",
       "      <td>NaN</td>\n",
       "      <td>NaN</td>\n",
       "      <td>NaN</td>\n",
       "    </tr>\n",
       "    <tr>\n",
       "      <th>min</th>\n",
       "      <td>2007-07-26 03:01:00+00:00</td>\n",
       "      <td>NaN</td>\n",
       "      <td>NaN</td>\n",
       "      <td>NaN</td>\n",
       "    </tr>\n",
       "    <tr>\n",
       "      <th>25%</th>\n",
       "      <td>2013-01-24 08:01:00+00:00</td>\n",
       "      <td>NaN</td>\n",
       "      <td>NaN</td>\n",
       "      <td>NaN</td>\n",
       "    </tr>\n",
       "    <tr>\n",
       "      <th>50%</th>\n",
       "      <td>2014-01-23 14:44:00+00:00</td>\n",
       "      <td>NaN</td>\n",
       "      <td>NaN</td>\n",
       "      <td>NaN</td>\n",
       "    </tr>\n",
       "    <tr>\n",
       "      <th>75%</th>\n",
       "      <td>2015-07-30 11:37:00+00:00</td>\n",
       "      <td>NaN</td>\n",
       "      <td>NaN</td>\n",
       "      <td>NaN</td>\n",
       "    </tr>\n",
       "    <tr>\n",
       "      <th>max</th>\n",
       "      <td>2022-07-27 21:01:00+00:00</td>\n",
       "      <td>NaN</td>\n",
       "      <td>NaN</td>\n",
       "      <td>NaN</td>\n",
       "    </tr>\n",
       "  </tbody>\n",
       "</table>\n",
       "</div>"
      ],
      "text/plain": [
       "                                datetime        conference_name statement  \\\n",
       "count                               5000                   5000      5000   \n",
       "unique                               NaN                     30      4637   \n",
       "top                                  NaN  Earnings call Q1 2012      Yes.   \n",
       "freq                                 NaN                    402        49   \n",
       "mean    2014-04-14 20:12:53.760000+00:00                    NaN       NaN   \n",
       "min            2007-07-26 03:01:00+00:00                    NaN       NaN   \n",
       "25%            2013-01-24 08:01:00+00:00                    NaN       NaN   \n",
       "50%            2014-01-23 14:44:00+00:00                    NaN       NaN   \n",
       "75%            2015-07-30 11:37:00+00:00                    NaN       NaN   \n",
       "max            2022-07-27 21:01:00+00:00                    NaN       NaN   \n",
       "\n",
       "       biodiversity  \n",
       "count          5000  \n",
       "unique            1  \n",
       "top            none  \n",
       "freq           5000  \n",
       "mean            NaN  \n",
       "min             NaN  \n",
       "25%             NaN  \n",
       "50%             NaN  \n",
       "75%             NaN  \n",
       "max             NaN  "
      ]
     },
     "execution_count": 25,
     "metadata": {},
     "output_type": "execute_result"
    }
   ],
   "source": [
    "df.describe()"
   ]
  },
  {
   "cell_type": "code",
   "execution_count": 24,
   "metadata": {},
   "outputs": [
    {
     "data": {
      "text/plain": [
       "biodiversity\n",
       "none    5000\n",
       "Name: count, dtype: int64"
      ]
     },
     "execution_count": 24,
     "metadata": {},
     "output_type": "execute_result"
    }
   ],
   "source": [
    "df_['biodiversity'].value_counts()"
   ]
  },
  {
   "cell_type": "code",
   "execution_count": 22,
   "metadata": {},
   "outputs": [
    {
     "data": {
      "text/html": [
       "<div>\n",
       "<style scoped>\n",
       "    .dataframe tbody tr th:only-of-type {\n",
       "        vertical-align: middle;\n",
       "    }\n",
       "\n",
       "    .dataframe tbody tr th {\n",
       "        vertical-align: top;\n",
       "    }\n",
       "\n",
       "    .dataframe thead th {\n",
       "        text-align: right;\n",
       "    }\n",
       "</style>\n",
       "<table border=\"1\" class=\"dataframe\">\n",
       "  <thead>\n",
       "    <tr style=\"text-align: right;\">\n",
       "      <th></th>\n",
       "      <th>datetime</th>\n",
       "      <th>conference_name</th>\n",
       "      <th>statement</th>\n",
       "      <th>biodiversity</th>\n",
       "    </tr>\n",
       "  </thead>\n",
       "  <tbody>\n",
       "    <tr>\n",
       "      <th>36</th>\n",
       "      <td>2022-07-27 21:01:00+00:00</td>\n",
       "      <td>005930.KS - Earnings call Q2 2022</td>\n",
       "      <td>I would like to thank everyone who can share t...</td>\n",
       "      <td>none</td>\n",
       "    </tr>\n",
       "    <tr>\n",
       "      <th>30</th>\n",
       "      <td>2022-07-27 21:01:00+00:00</td>\n",
       "      <td>005930.KS - Earnings call Q2 2022</td>\n",
       "      <td>Good morning. I'm Young Moo-Kim from Sales and...</td>\n",
       "      <td>none</td>\n",
       "    </tr>\n",
       "    <tr>\n",
       "      <th>22</th>\n",
       "      <td>2022-07-27 21:01:00+00:00</td>\n",
       "      <td>005930.KS - Earnings call Q2 2022</td>\n",
       "      <td>Yes, to answer your question, I think I can st...</td>\n",
       "      <td>none</td>\n",
       "    </tr>\n",
       "    <tr>\n",
       "      <th>23</th>\n",
       "      <td>2022-07-27 21:01:00+00:00</td>\n",
       "      <td>005930.KS - Earnings call Q2 2022</td>\n",
       "      <td>To answer your question about the Exynos busin...</td>\n",
       "      <td>none</td>\n",
       "    </tr>\n",
       "    <tr>\n",
       "      <th>24</th>\n",
       "      <td>2022-07-27 21:01:00+00:00</td>\n",
       "      <td>005930.KS - Earnings call Q2 2022</td>\n",
       "      <td>You've asked about server demand. I think one ...</td>\n",
       "      <td>none</td>\n",
       "    </tr>\n",
       "    <tr>\n",
       "      <th>26</th>\n",
       "      <td>2022-07-27 21:01:00+00:00</td>\n",
       "      <td>005930.KS - Earnings call Q2 2022</td>\n",
       "      <td>Finally, we will answer questions that were su...</td>\n",
       "      <td>none</td>\n",
       "    </tr>\n",
       "    <tr>\n",
       "      <th>27</th>\n",
       "      <td>2022-07-27 21:01:00+00:00</td>\n",
       "      <td>005930.KS - Earnings call Q2 2022</td>\n",
       "      <td>[Operator Instructions]. The first question wi...</td>\n",
       "      <td>none</td>\n",
       "    </tr>\n",
       "    <tr>\n",
       "      <th>28</th>\n",
       "      <td>2022-07-27 21:01:00+00:00</td>\n",
       "      <td>005930.KS - Earnings call Q2 2022</td>\n",
       "      <td>To answer your question about DRAM supply, yes...</td>\n",
       "      <td>none</td>\n",
       "    </tr>\n",
       "    <tr>\n",
       "      <th>29</th>\n",
       "      <td>2022-07-27 21:01:00+00:00</td>\n",
       "      <td>005930.KS - Earnings call Q2 2022</td>\n",
       "      <td>Thank you. That sums up the second quarter res...</td>\n",
       "      <td>none</td>\n",
       "    </tr>\n",
       "    <tr>\n",
       "      <th>31</th>\n",
       "      <td>2022-07-27 21:01:00+00:00</td>\n",
       "      <td>005930.KS - Earnings call Q2 2022</td>\n",
       "      <td>My first question is about the Memory, the ser...</td>\n",
       "      <td>none</td>\n",
       "    </tr>\n",
       "    <tr>\n",
       "      <th>20</th>\n",
       "      <td>2022-07-27 21:01:00+00:00</td>\n",
       "      <td>005930.KS - Earnings call Q2 2022</td>\n",
       "      <td>Good morning. This is Han JinMan from the Memo...</td>\n",
       "      <td>none</td>\n",
       "    </tr>\n",
       "    <tr>\n",
       "      <th>32</th>\n",
       "      <td>2022-07-27 21:01:00+00:00</td>\n",
       "      <td>005930.KS - Earnings call Q2 2022</td>\n",
       "      <td>I have two questions. The first question is ab...</td>\n",
       "      <td>none</td>\n",
       "    </tr>\n",
       "    <tr>\n",
       "      <th>33</th>\n",
       "      <td>2022-07-27 21:01:00+00:00</td>\n",
       "      <td>005930.KS - Earnings call Q2 2022</td>\n",
       "      <td>Welcome, everyone. This is Ben Suh from Invest...</td>\n",
       "      <td>none</td>\n",
       "    </tr>\n",
       "    <tr>\n",
       "      <th>34</th>\n",
       "      <td>2022-07-27 21:01:00+00:00</td>\n",
       "      <td>005930.KS - Earnings call Q2 2022</td>\n",
       "      <td>The first one is on Memory. In light of on dem...</td>\n",
       "      <td>none</td>\n",
       "    </tr>\n",
       "    <tr>\n",
       "      <th>35</th>\n",
       "      <td>2022-07-27 21:01:00+00:00</td>\n",
       "      <td>005930.KS - Earnings call Q2 2022</td>\n",
       "      <td>The next question will be presented by Nicolas...</td>\n",
       "      <td>none</td>\n",
       "    </tr>\n",
       "    <tr>\n",
       "      <th>37</th>\n",
       "      <td>2022-07-27 21:01:00+00:00</td>\n",
       "      <td>005930.KS - Earnings call Q2 2022</td>\n",
       "      <td>The next question will be presented by Peter L...</td>\n",
       "      <td>none</td>\n",
       "    </tr>\n",
       "    <tr>\n",
       "      <th>38</th>\n",
       "      <td>2022-07-27 21:01:00+00:00</td>\n",
       "      <td>005930.KS - Earnings call Q2 2022</td>\n",
       "      <td>The first question is about memory supply outl...</td>\n",
       "      <td>none</td>\n",
       "    </tr>\n",
       "    <tr>\n",
       "      <th>39</th>\n",
       "      <td>2022-07-27 21:01:00+00:00</td>\n",
       "      <td>005930.KS - Earnings call Q2 2022</td>\n",
       "      <td>The next question will be presented by Dongwon...</td>\n",
       "      <td>none</td>\n",
       "    </tr>\n",
       "    <tr>\n",
       "      <th>21</th>\n",
       "      <td>2022-07-27 21:01:00+00:00</td>\n",
       "      <td>005930.KS - Earnings call Q2 2022</td>\n",
       "      <td>I have two questions. The first question is ab...</td>\n",
       "      <td>none</td>\n",
       "    </tr>\n",
       "    <tr>\n",
       "      <th>25</th>\n",
       "      <td>2022-07-27 21:01:00+00:00</td>\n",
       "      <td>005930.KS - Earnings call Q2 2022</td>\n",
       "      <td>Good morning. I'm KwonYoung Choi from the Busi...</td>\n",
       "      <td>none</td>\n",
       "    </tr>\n",
       "  </tbody>\n",
       "</table>\n",
       "</div>"
      ],
      "text/plain": [
       "                    datetime                    conference_name  \\\n",
       "36 2022-07-27 21:01:00+00:00  005930.KS - Earnings call Q2 2022   \n",
       "30 2022-07-27 21:01:00+00:00  005930.KS - Earnings call Q2 2022   \n",
       "22 2022-07-27 21:01:00+00:00  005930.KS - Earnings call Q2 2022   \n",
       "23 2022-07-27 21:01:00+00:00  005930.KS - Earnings call Q2 2022   \n",
       "24 2022-07-27 21:01:00+00:00  005930.KS - Earnings call Q2 2022   \n",
       "26 2022-07-27 21:01:00+00:00  005930.KS - Earnings call Q2 2022   \n",
       "27 2022-07-27 21:01:00+00:00  005930.KS - Earnings call Q2 2022   \n",
       "28 2022-07-27 21:01:00+00:00  005930.KS - Earnings call Q2 2022   \n",
       "29 2022-07-27 21:01:00+00:00  005930.KS - Earnings call Q2 2022   \n",
       "31 2022-07-27 21:01:00+00:00  005930.KS - Earnings call Q2 2022   \n",
       "20 2022-07-27 21:01:00+00:00  005930.KS - Earnings call Q2 2022   \n",
       "32 2022-07-27 21:01:00+00:00  005930.KS - Earnings call Q2 2022   \n",
       "33 2022-07-27 21:01:00+00:00  005930.KS - Earnings call Q2 2022   \n",
       "34 2022-07-27 21:01:00+00:00  005930.KS - Earnings call Q2 2022   \n",
       "35 2022-07-27 21:01:00+00:00  005930.KS - Earnings call Q2 2022   \n",
       "37 2022-07-27 21:01:00+00:00  005930.KS - Earnings call Q2 2022   \n",
       "38 2022-07-27 21:01:00+00:00  005930.KS - Earnings call Q2 2022   \n",
       "39 2022-07-27 21:01:00+00:00  005930.KS - Earnings call Q2 2022   \n",
       "21 2022-07-27 21:01:00+00:00  005930.KS - Earnings call Q2 2022   \n",
       "25 2022-07-27 21:01:00+00:00  005930.KS - Earnings call Q2 2022   \n",
       "\n",
       "                                            statement biodiversity  \n",
       "36  I would like to thank everyone who can share t...         none  \n",
       "30  Good morning. I'm Young Moo-Kim from Sales and...         none  \n",
       "22  Yes, to answer your question, I think I can st...         none  \n",
       "23  To answer your question about the Exynos busin...         none  \n",
       "24  You've asked about server demand. I think one ...         none  \n",
       "26  Finally, we will answer questions that were su...         none  \n",
       "27  [Operator Instructions]. The first question wi...         none  \n",
       "28  To answer your question about DRAM supply, yes...         none  \n",
       "29  Thank you. That sums up the second quarter res...         none  \n",
       "31  My first question is about the Memory, the ser...         none  \n",
       "20  Good morning. This is Han JinMan from the Memo...         none  \n",
       "32  I have two questions. The first question is ab...         none  \n",
       "33  Welcome, everyone. This is Ben Suh from Invest...         none  \n",
       "34  The first one is on Memory. In light of on dem...         none  \n",
       "35  The next question will be presented by Nicolas...         none  \n",
       "37  The next question will be presented by Peter L...         none  \n",
       "38  The first question is about memory supply outl...         none  \n",
       "39  The next question will be presented by Dongwon...         none  \n",
       "21  I have two questions. The first question is ab...         none  \n",
       "25  Good morning. I'm KwonYoung Choi from the Busi...         none  "
      ]
     },
     "execution_count": 22,
     "metadata": {},
     "output_type": "execute_result"
    }
   ],
   "source": [
    "df.sort_values(by='datetime', ascending=False).head(20)"
   ]
  },
  {
   "cell_type": "code",
   "execution_count": 4,
   "metadata": {},
   "outputs": [
    {
     "ename": "NameError",
     "evalue": "name 'df' is not defined",
     "output_type": "error",
     "traceback": [
      "\u001b[0;31m---------------------------------------------------------------------------\u001b[0m",
      "\u001b[0;31mNameError\u001b[0m                                 Traceback (most recent call last)",
      "Cell \u001b[0;32mIn[4], line 1\u001b[0m\n\u001b[0;32m----> 1\u001b[0m \u001b[43mdf\u001b[49m\u001b[38;5;241m.\u001b[39mhead(\u001b[38;5;241m10000\u001b[39m)\n",
      "\u001b[0;31mNameError\u001b[0m: name 'df' is not defined"
     ]
    }
   ],
   "source": [
    "df.head(10000)"
   ]
  },
  {
   "cell_type": "code",
   "execution_count": null,
   "metadata": {},
   "outputs": [],
   "source": []
  }
 ],
 "metadata": {
  "kernelspec": {
   "display_name": ".venv",
   "language": "python",
   "name": "python3"
  },
  "language_info": {
   "codemirror_mode": {
    "name": "ipython",
    "version": 3
   },
   "file_extension": ".py",
   "mimetype": "text/x-python",
   "name": "python",
   "nbconvert_exporter": "python",
   "pygments_lexer": "ipython3",
   "version": "3.9.6"
  }
 },
 "nbformat": 4,
 "nbformat_minor": 2
}
