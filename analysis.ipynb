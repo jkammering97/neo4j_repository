{
 "cells": [
  {
   "cell_type": "markdown",
   "metadata": {},
   "source": [
    "# Data Retrieving"
   ]
  },
  {
   "cell_type": "code",
   "execution_count": 5,
   "metadata": {},
   "outputs": [],
   "source": [
    "import pandas as pd\n",
    "from neo4j_access import *\n",
    "import numpy as np"
   ]
  },
  {
   "cell_type": "code",
   "execution_count": 2,
   "metadata": {},
   "outputs": [],
   "source": [
    "query = \"MATCH (s:Statement)-[:WAS_GIVEN_AT]->(e:ECC) WHERE toLower(s.text) CONTAINS 'biodiversity' RETURN e.time as datetime, e.title as conference_name, s.text as statement\""
   ]
  },
  {
   "cell_type": "code",
   "execution_count": 3,
   "metadata": {},
   "outputs": [
    {
     "name": "stdout",
     "output_type": "stream",
     "text": [
      "Planner COST\n",
      "\n",
      "Runtime SLOTTED\n",
      "\n",
      "Runtime version 5.12\n",
      "\n",
      "+------------------+----+------------------------------------------------------------------------------------------+----------------+\n",
      "| Operator         | Id | Details                                                                                  | Estimated Rows |\n",
      "+------------------+----+------------------------------------------------------------------------------------------+----------------+\n",
      "| +ProduceResults  |  0 | datetime, conference_name, statement                                                     |       12722848 |\n",
      "| |                +----+------------------------------------------------------------------------------------------+----------------+\n",
      "| +Projection      |  1 | cache[e.time] AS datetime, cache[e.title] AS conference_name, cache[s.text] AS statement |       12722848 |\n",
      "| |                +----+------------------------------------------------------------------------------------------+----------------+\n",
      "| +Filter          |  2 | toLower(cache[s.text]) CONTAINS $autostring_0 AND s:Statement                            |       12722848 |\n",
      "| |                +----+------------------------------------------------------------------------------------------+----------------+\n",
      "| +Expand(All)     |  3 | (e)<-[anon_0:WAS_GIVEN_AT]-(s)                                                           |       16963797 |\n",
      "| |                +----+------------------------------------------------------------------------------------------+----------------+\n",
      "| +CacheProperties |  4 | cache[e.title], cache[e.time]                                                            |         272527 |\n",
      "| |                +----+------------------------------------------------------------------------------------------+----------------+\n",
      "| +NodeByLabelScan |  5 | e:ECC                                                                                    |         272527 |\n",
      "+------------------+----+------------------------------------------------------------------------------------------+----------------+\n",
      "\n",
      "Total database accesses: ?\n",
      "\n",
      "\n",
      "query Execution Time: 48.353052 seconds\n",
      "\n",
      "Query Result as DataFrame:\n",
      "                                 datetime  \\\n",
      "0     2021-01-21T05:18:00.000000000+00:00   \n",
      "1     2019-10-17T01:33:00.000000000+00:00   \n",
      "2     2021-03-03T04:43:00.000000000+00:00   \n",
      "3     2022-11-29T11:31:00.000000000+00:00   \n",
      "4     2022-11-29T11:31:00.000000000+00:00   \n",
      "...                                   ...   \n",
      "1284  2022-04-27T11:01:00.000000000+00:00   \n",
      "1285  2020-12-07T03:01:00.000000000+00:00   \n",
      "1286  2020-12-07T03:01:00.000000000+00:00   \n",
      "1287  2013-11-26T02:31:00.000000000+00:00   \n",
      "1288  2022-07-11T12:31:00.000000000+00:00   \n",
      "\n",
      "                                        conference_name  \\\n",
      "0                            AA - Earnings call Q4 2020   \n",
      "1                            AA - Earnings call Q3 2019   \n",
      "2     AA - Alcoa Corporation (AA) CEO Roy Harvey on ...   \n",
      "3                 Analyst/Investor Day - AAK AB (publ.)   \n",
      "4                 Analyst/Investor Day - AAK AB (publ.)   \n",
      "...                                                 ...   \n",
      "1284                      YAR.OL - Earnings call 1 2022   \n",
      "1285                              YAR.OL - Special Call   \n",
      "1286                              YAR.OL - Special Call   \n",
      "1287                              YAR.OL - Investor Day   \n",
      "1288   Gold Fields Limited, Yamana Gold Inc. - M&A Call   \n",
      "\n",
      "                                              statement  \n",
      "0     Thanks, Bill. Let me turn to our market. In th...  \n",
      "1     Thanks Bill. As is our practice, we'll now tur...  \n",
      "2     Perfect. And thank you, Dave. What I'd like to...  \n",
      "3     Yes, I think that's right. I think that there'...  \n",
      "4     Thank you so much, Lidia. And once again, welc...  \n",
      "...                                                 ...  \n",
      "1284  Well, what we've seen now in terms of global f...  \n",
      "1285  Good morning. Five years ago, our organization...  \n",
      "1286  Well, hello, everybody. I'm Paul Polman, the f...  \n",
      "1287  Thank you, Dag Tore. And good morning, everyon...  \n",
      "1288  Yes, just to mention our country manager, Dani...  \n",
      "\n",
      "[1289 rows x 3 columns]\n"
     ]
    }
   ],
   "source": [
    "QueryNeo4J.initialize()\n",
    "df = QueryNeo4J.commit_query(query=query)"
   ]
  },
  {
   "cell_type": "code",
   "execution_count": 4,
   "metadata": {},
   "outputs": [],
   "source": [
    "df[\"datetime\"] = df[\"datetime\"].astype(str)  # Convert Neo4j DateTime to string\n",
    "df[\"datetime\"] = pd.to_datetime(df[\"datetime\"])  # Convert string to Pandas datetime"
   ]
  },
  {
   "cell_type": "code",
   "execution_count": 15,
   "metadata": {},
   "outputs": [
    {
     "name": "stdout",
     "output_type": "stream",
     "text": [
      "<class 'pandas.core.frame.DataFrame'>\n",
      "RangeIndex: 1289 entries, 0 to 1288\n",
      "Data columns (total 4 columns):\n",
      " #   Column            Non-Null Count  Dtype              \n",
      "---  ------            --------------  -----              \n",
      " 0   datetime          1289 non-null   datetime64[ns, UTC]\n",
      " 1   conference_name   1289 non-null   object             \n",
      " 2   statement         1289 non-null   object             \n",
      " 3   before_tnfd_2022  1289 non-null   int64              \n",
      "dtypes: datetime64[ns, UTC](1), int64(1), object(2)\n",
      "memory usage: 40.4+ KB\n"
     ]
    }
   ],
   "source": [
    "df.info()\n",
    "df.to_pickle('data/biodiversity_dataset.pkl')\n"
   ]
  },
  {
   "cell_type": "code",
   "execution_count": 6,
   "metadata": {},
   "outputs": [],
   "source": [
    "df['before_tnfd_2022'] = np.where(pd.to_datetime(df['datetime']) < pd.Timestamp(\"2022-01-01\", tz=\"UTC\"), 1, 0)"
   ]
  },
  {
   "cell_type": "code",
   "execution_count": 7,
   "metadata": {},
   "outputs": [
    {
     "data": {
      "text/plain": [
       "count    1289.000000\n",
       "mean        0.666408\n",
       "std         0.471679\n",
       "min         0.000000\n",
       "25%         0.000000\n",
       "50%         1.000000\n",
       "75%         1.000000\n",
       "max         1.000000\n",
       "Name: before_tnfd_2022, dtype: float64"
      ]
     },
     "execution_count": 7,
     "metadata": {},
     "output_type": "execute_result"
    }
   ],
   "source": [
    "df[\"before_tnfd_2022\"].describe()"
   ]
  },
  {
   "cell_type": "code",
   "execution_count": 8,
   "metadata": {},
   "outputs": [
    {
     "data": {
      "text/plain": [
       "before_tnfd_2022\n",
       "1    859\n",
       "0    430\n",
       "Name: count, dtype: int64"
      ]
     },
     "execution_count": 8,
     "metadata": {},
     "output_type": "execute_result"
    }
   ],
   "source": [
    "df[\"before_tnfd_2022\"].value_counts()"
   ]
  },
  {
   "cell_type": "markdown",
   "metadata": {},
   "source": [
    "# Models"
   ]
  },
  {
   "cell_type": "code",
   "execution_count": 6,
   "metadata": {},
   "outputs": [],
   "source": [
    "df = pd.read_pickle('data/biodiversity_dataset.pkl')"
   ]
  },
  {
   "cell_type": "code",
   "execution_count": 8,
   "metadata": {},
   "outputs": [
    {
     "data": {
      "text/html": [
       "<div>\n",
       "<style scoped>\n",
       "    .dataframe tbody tr th:only-of-type {\n",
       "        vertical-align: middle;\n",
       "    }\n",
       "\n",
       "    .dataframe tbody tr th {\n",
       "        vertical-align: top;\n",
       "    }\n",
       "\n",
       "    .dataframe thead th {\n",
       "        text-align: right;\n",
       "    }\n",
       "</style>\n",
       "<table border=\"1\" class=\"dataframe\">\n",
       "  <thead>\n",
       "    <tr style=\"text-align: right;\">\n",
       "      <th></th>\n",
       "      <th>datetime</th>\n",
       "      <th>conference_name</th>\n",
       "      <th>statement</th>\n",
       "      <th>before_tnfd_2022</th>\n",
       "    </tr>\n",
       "  </thead>\n",
       "  <tbody>\n",
       "    <tr>\n",
       "      <th>0</th>\n",
       "      <td>2021-01-21 05:18:00+00:00</td>\n",
       "      <td>AA - Earnings call Q4 2020</td>\n",
       "      <td>Thanks, Bill. Let me turn to our market. In th...</td>\n",
       "      <td>1</td>\n",
       "    </tr>\n",
       "  </tbody>\n",
       "</table>\n",
       "</div>"
      ],
      "text/plain": [
       "                   datetime             conference_name  \\\n",
       "0 2021-01-21 05:18:00+00:00  AA - Earnings call Q4 2020   \n",
       "\n",
       "                                           statement  before_tnfd_2022  \n",
       "0  Thanks, Bill. Let me turn to our market. In th...                 1  "
      ]
     },
     "execution_count": 8,
     "metadata": {},
     "output_type": "execute_result"
    }
   ],
   "source": [
    "df.head(1)"
   ]
  },
  {
   "cell_type": "code",
   "execution_count": 1,
   "metadata": {},
   "outputs": [
    {
     "name": "stderr",
     "output_type": "stream",
     "text": [
      "/Users/joey/Desktop/uni/Master/neo4j_repository/.venv/lib/python3.9/site-packages/urllib3/__init__.py:35: NotOpenSSLWarning: urllib3 v2 only supports OpenSSL 1.1.1+, currently the 'ssl' module is compiled with 'LibreSSL 2.8.3'. See: https://github.com/urllib3/urllib3/issues/3020\n",
      "  warnings.warn(\n",
      "/Users/joey/Desktop/uni/Master/neo4j_repository/.venv/lib/python3.9/site-packages/tqdm/auto.py:21: TqdmWarning: IProgress not found. Please update jupyter and ipywidgets. See https://ipywidgets.readthedocs.io/en/stable/user_install.html\n",
      "  from .autonotebook import tqdm as notebook_tqdm\n",
      "The cache for model files in Transformers v4.22.0 has been updated. Migrating your old cache. This is a one-time only operation. You can interrupt this and resume the migration later on by calling `transformers.utils.move_cache()`.\n",
      "0it [00:00, ?it/s]\n"
     ]
    }
   ],
   "source": [
    "from transformers import AutoModelForSequenceClassification, AutoTokenizer, pipeline\n",
    "import spacy"
   ]
  },
  {
   "cell_type": "code",
   "execution_count": 22,
   "metadata": {},
   "outputs": [],
   "source": [
    "def classify_df(df, text_column, pipe, pipe_name):\n",
    "    \"\"\"\n",
    "    Function that classifies text from a DataFrame.\n",
    "    \n",
    "    Parameters:\n",
    "    - df: Pandas DataFrame containing the text to classify.\n",
    "    - text_column: Column name in the DataFrame that contains report texts.\n",
    "    - pipe: Hugging Face pipeline for classification.\n",
    "    - pipe_name: Hugging Face pipeline for action classification.\n",
    "    \n",
    "    Returns:\n",
    "    - df_result: DataFrame with classifications.\n",
    "    \"\"\"\n",
    "\n",
    "    print(f\"\\nClassifying {pipe_name} labels...\")\n",
    "    classifications = pipe(df[text_column].tolist(), padding=True, truncation=True, batch_size=16)\n",
    "    df[pipe_name] = [x[\"label\"] for x in classifications]\n",
    "\n",
    "    df_result = df[df[pipe_name] == pipe_name].copy()\n",
    "\n",
    "    return df_result"
   ]
  },
  {
   "cell_type": "code",
   "execution_count": null,
   "metadata": {},
   "outputs": [
    {
     "name": "stderr",
     "output_type": "stream",
     "text": [
      "Device set to use mps:0\n",
      "Device set to use mps:0\n"
     ]
    }
   ],
   "source": [
    "name = \"ESGBERT/EnvironmentalBERT-environmental\" # path to download from HuggingFace\n",
    "\n",
    "tokenizer = AutoTokenizer.from_pretrained(name)\n",
    "model = AutoModelForSequenceClassification.from_pretrained(name)\n",
    "# The pipeline combines tokenizer and model to one process.\n",
    "pipe_env = pipeline(\"text-classification\", model=model, tokenizer=tokenizer)\n"
   ]
  },
  {
   "cell_type": "code",
   "execution_count": 23,
   "metadata": {},
   "outputs": [
    {
     "name": "stdout",
     "output_type": "stream",
     "text": [
      "\n",
      "Classifying environmental labels...\n"
     ]
    }
   ],
   "source": [
    "df = classify_df(df, text_column=\"statement\", pipe=pipe_env, pipe_name='environmental')"
   ]
  },
  {
   "cell_type": "code",
   "execution_count": null,
   "metadata": {},
   "outputs": [],
   "source": [
    "from transformers import AutoModelForSequenceClassification, AutoTokenizer, pipeline\n",
    "\n",
    "tokenizer_name = \"ESGBERT/EnvironmentalBERT-biodiversity\"\n",
    "model_name = \"ESGBERT/EnvironmentalBERT-biodiversity\"\n",
    " \n",
    "model = AutoModelForSequenceClassification.from_pretrained(model_name)\n",
    "tokenizer = AutoTokenizer.from_pretrained(tokenizer_name, max_len=512)\n",
    "\n",
    "pipe = pipeline(\"text-classification\", model=model, tokenizer=tokenizer) # set device=0 to use GPU"
   ]
  },
  {
   "cell_type": "code",
   "execution_count": null,
   "metadata": {},
   "outputs": [
    {
     "name": "stdout",
     "output_type": "stream",
     "text": [
      "\n",
      "Classifying environmental labels...\n"
     ]
    }
   ],
   "source": [
    "df = classify_df(df,text_column='statement',pipe=pipe,pipe_name='biodiversity')"
   ]
  },
  {
   "cell_type": "code",
   "execution_count": 17,
   "metadata": {},
   "outputs": [
    {
     "data": {
      "text/plain": [
       "biodiversity\n",
       "biodiversity    314\n",
       "Name: count, dtype: int64"
      ]
     },
     "execution_count": 17,
     "metadata": {},
     "output_type": "execute_result"
    }
   ],
   "source": [
    "df['biodiversity'].value_counts()"
   ]
  },
  {
   "cell_type": "code",
   "execution_count": 31,
   "metadata": {},
   "outputs": [
    {
     "data": {
      "text/html": [
       "<div>\n",
       "<style scoped>\n",
       "    .dataframe tbody tr th:only-of-type {\n",
       "        vertical-align: middle;\n",
       "    }\n",
       "\n",
       "    .dataframe tbody tr th {\n",
       "        vertical-align: top;\n",
       "    }\n",
       "\n",
       "    .dataframe thead th {\n",
       "        text-align: right;\n",
       "    }\n",
       "</style>\n",
       "<table border=\"1\" class=\"dataframe\">\n",
       "  <thead>\n",
       "    <tr style=\"text-align: right;\">\n",
       "      <th></th>\n",
       "      <th>datetime</th>\n",
       "      <th>conference_name</th>\n",
       "      <th>statement</th>\n",
       "      <th>before_tnfd_2022</th>\n",
       "      <th>environmental</th>\n",
       "      <th>action</th>\n",
       "      <th>biodiversity</th>\n",
       "    </tr>\n",
       "  </thead>\n",
       "  <tbody>\n",
       "    <tr>\n",
       "      <th>711</th>\n",
       "      <td>2022-12-15 22:31:00+00:00</td>\n",
       "      <td>Shareholder/Analyst Call - National Australia ...</td>\n",
       "      <td>Thank you. And thank you for raising that. Thi...</td>\n",
       "      <td>0</td>\n",
       "      <td>environmental</td>\n",
       "      <td>none</td>\n",
       "      <td>biodiversity</td>\n",
       "    </tr>\n",
       "    <tr>\n",
       "      <th>709</th>\n",
       "      <td>2022-12-15 22:31:00+00:00</td>\n",
       "      <td>Shareholder/Analyst Call - National Australia ...</td>\n",
       "      <td>Thank you. The reference to countries in the E...</td>\n",
       "      <td>0</td>\n",
       "      <td>environmental</td>\n",
       "      <td>none</td>\n",
       "      <td>biodiversity</td>\n",
       "    </tr>\n",
       "    <tr>\n",
       "      <th>708</th>\n",
       "      <td>2022-12-15 22:31:00+00:00</td>\n",
       "      <td>Shareholder/Analyst Call - National Australia ...</td>\n",
       "      <td>If I may, I'd just like to ask a follow-up que...</td>\n",
       "      <td>0</td>\n",
       "      <td>environmental</td>\n",
       "      <td>action</td>\n",
       "      <td>biodiversity</td>\n",
       "    </tr>\n",
       "    <tr>\n",
       "      <th>106</th>\n",
       "      <td>2022-12-14 23:31:00+00:00</td>\n",
       "      <td>Shareholder/Analyst Call - Australia and New Z...</td>\n",
       "      <td>Thank you for the question. And certainly, we'...</td>\n",
       "      <td>0</td>\n",
       "      <td>environmental</td>\n",
       "      <td>action</td>\n",
       "      <td>biodiversity</td>\n",
       "    </tr>\n",
       "    <tr>\n",
       "      <th>105</th>\n",
       "      <td>2022-12-14 23:31:00+00:00</td>\n",
       "      <td>Shareholder/Analyst Call - Australia and New Z...</td>\n",
       "      <td>Thanks for the question, Susan. I do have the ...</td>\n",
       "      <td>0</td>\n",
       "      <td>environmental</td>\n",
       "      <td>none</td>\n",
       "      <td>biodiversity</td>\n",
       "    </tr>\n",
       "    <tr>\n",
       "      <th>104</th>\n",
       "      <td>2022-12-14 23:31:00+00:00</td>\n",
       "      <td>Shareholder/Analyst Call - Australia and New Z...</td>\n",
       "      <td>Good afternoon. So as some of you may be aware...</td>\n",
       "      <td>0</td>\n",
       "      <td>environmental</td>\n",
       "      <td>action</td>\n",
       "      <td>biodiversity</td>\n",
       "    </tr>\n",
       "    <tr>\n",
       "      <th>103</th>\n",
       "      <td>2022-12-14 23:31:00+00:00</td>\n",
       "      <td>Shareholder/Analyst Call - Australia and New Z...</td>\n",
       "      <td>Thank you, Emilia. And actually, as I said, we...</td>\n",
       "      <td>0</td>\n",
       "      <td>environmental</td>\n",
       "      <td>none</td>\n",
       "      <td>biodiversity</td>\n",
       "    </tr>\n",
       "    <tr>\n",
       "      <th>102</th>\n",
       "      <td>2022-12-14 23:31:00+00:00</td>\n",
       "      <td>Shareholder/Analyst Call - Australia and New Z...</td>\n",
       "      <td>Thanks, John. Thanks, actually very important ...</td>\n",
       "      <td>0</td>\n",
       "      <td>environmental</td>\n",
       "      <td>none</td>\n",
       "      <td>biodiversity</td>\n",
       "    </tr>\n",
       "    <tr>\n",
       "      <th>101</th>\n",
       "      <td>2022-12-14 23:31:00+00:00</td>\n",
       "      <td>Shareholder/Analyst Call - Australia and New Z...</td>\n",
       "      <td>Thank you, Margaret, for your point and perhap...</td>\n",
       "      <td>0</td>\n",
       "      <td>environmental</td>\n",
       "      <td>none</td>\n",
       "      <td>biodiversity</td>\n",
       "    </tr>\n",
       "    <tr>\n",
       "      <th>615</th>\n",
       "      <td>2022-11-30 15:01:00+00:00</td>\n",
       "      <td>2022 Earnings Call</td>\n",
       "      <td>So again, background, so the TNFD is a taskfor...</td>\n",
       "      <td>0</td>\n",
       "      <td>environmental</td>\n",
       "      <td>none</td>\n",
       "      <td>biodiversity</td>\n",
       "    </tr>\n",
       "    <tr>\n",
       "      <th>588</th>\n",
       "      <td>2022-11-28 09:01:00+00:00</td>\n",
       "      <td>Analyst/Investor Day - Icade SA</td>\n",
       "      <td>To conclude on Slide 54, our carbon intensity ...</td>\n",
       "      <td>0</td>\n",
       "      <td>environmental</td>\n",
       "      <td>action</td>\n",
       "      <td>biodiversity</td>\n",
       "    </tr>\n",
       "    <tr>\n",
       "      <th>981</th>\n",
       "      <td>2022-11-25 12:01:00+00:00</td>\n",
       "      <td>Analyst/Investor Day - Svenska Cellulosa Aktie...</td>\n",
       "      <td>Well, it's true that we often hear quite conce...</td>\n",
       "      <td>0</td>\n",
       "      <td>environmental</td>\n",
       "      <td>none</td>\n",
       "      <td>biodiversity</td>\n",
       "    </tr>\n",
       "    <tr>\n",
       "      <th>982</th>\n",
       "      <td>2022-11-25 12:01:00+00:00</td>\n",
       "      <td>Analyst/Investor Day - Svenska Cellulosa Aktie...</td>\n",
       "      <td>Thanks a lot, Hans. Now let's take a look at s...</td>\n",
       "      <td>0</td>\n",
       "      <td>environmental</td>\n",
       "      <td>action</td>\n",
       "      <td>biodiversity</td>\n",
       "    </tr>\n",
       "    <tr>\n",
       "      <th>978</th>\n",
       "      <td>2022-11-25 12:01:00+00:00</td>\n",
       "      <td>Analyst/Investor Day - Svenska Cellulosa Aktie...</td>\n",
       "      <td>Yes. Here, I can give you an example of active...</td>\n",
       "      <td>0</td>\n",
       "      <td>environmental</td>\n",
       "      <td>action</td>\n",
       "      <td>biodiversity</td>\n",
       "    </tr>\n",
       "    <tr>\n",
       "      <th>979</th>\n",
       "      <td>2022-11-25 12:01:00+00:00</td>\n",
       "      <td>Analyst/Investor Day - Svenska Cellulosa Aktie...</td>\n",
       "      <td>Thank you, Jonas. SCA has come far in its sust...</td>\n",
       "      <td>0</td>\n",
       "      <td>environmental</td>\n",
       "      <td>action</td>\n",
       "      <td>biodiversity</td>\n",
       "    </tr>\n",
       "    <tr>\n",
       "      <th>980</th>\n",
       "      <td>2022-11-25 12:01:00+00:00</td>\n",
       "      <td>Analyst/Investor Day - Svenska Cellulosa Aktie...</td>\n",
       "      <td>Many people talk about how the world's biodive...</td>\n",
       "      <td>0</td>\n",
       "      <td>environmental</td>\n",
       "      <td>none</td>\n",
       "      <td>biodiversity</td>\n",
       "    </tr>\n",
       "    <tr>\n",
       "      <th>983</th>\n",
       "      <td>2022-11-25 12:01:00+00:00</td>\n",
       "      <td>Analyst/Investor Day - Svenska Cellulosa Aktie...</td>\n",
       "      <td>No. In the Baltics, where we have forest asset...</td>\n",
       "      <td>0</td>\n",
       "      <td>environmental</td>\n",
       "      <td>none</td>\n",
       "      <td>biodiversity</td>\n",
       "    </tr>\n",
       "    <tr>\n",
       "      <th>984</th>\n",
       "      <td>2022-11-25 12:01:00+00:00</td>\n",
       "      <td>Analyst/Investor Day - Svenska Cellulosa Aktie...</td>\n",
       "      <td>Well, for SCA, a sustainable forestry means th...</td>\n",
       "      <td>0</td>\n",
       "      <td>environmental</td>\n",
       "      <td>none</td>\n",
       "      <td>biodiversity</td>\n",
       "    </tr>\n",
       "    <tr>\n",
       "      <th>985</th>\n",
       "      <td>2022-11-25 12:01:00+00:00</td>\n",
       "      <td>Analyst/Investor Day - Svenska Cellulosa Aktie...</td>\n",
       "      <td>Anna, could you give us an example of what we ...</td>\n",
       "      <td>0</td>\n",
       "      <td>environmental</td>\n",
       "      <td>none</td>\n",
       "      <td>biodiversity</td>\n",
       "    </tr>\n",
       "    <tr>\n",
       "      <th>669</th>\n",
       "      <td>2022-11-22 12:01:00+00:00</td>\n",
       "      <td>Mærsk A/S - Analyst/Investor Day - A.P. Møller...</td>\n",
       "      <td>Right. That's very clear. That's very clear. A...</td>\n",
       "      <td>0</td>\n",
       "      <td>environmental</td>\n",
       "      <td>none</td>\n",
       "      <td>biodiversity</td>\n",
       "    </tr>\n",
       "  </tbody>\n",
       "</table>\n",
       "</div>"
      ],
      "text/plain": [
       "                     datetime  \\\n",
       "711 2022-12-15 22:31:00+00:00   \n",
       "709 2022-12-15 22:31:00+00:00   \n",
       "708 2022-12-15 22:31:00+00:00   \n",
       "106 2022-12-14 23:31:00+00:00   \n",
       "105 2022-12-14 23:31:00+00:00   \n",
       "104 2022-12-14 23:31:00+00:00   \n",
       "103 2022-12-14 23:31:00+00:00   \n",
       "102 2022-12-14 23:31:00+00:00   \n",
       "101 2022-12-14 23:31:00+00:00   \n",
       "615 2022-11-30 15:01:00+00:00   \n",
       "588 2022-11-28 09:01:00+00:00   \n",
       "981 2022-11-25 12:01:00+00:00   \n",
       "982 2022-11-25 12:01:00+00:00   \n",
       "978 2022-11-25 12:01:00+00:00   \n",
       "979 2022-11-25 12:01:00+00:00   \n",
       "980 2022-11-25 12:01:00+00:00   \n",
       "983 2022-11-25 12:01:00+00:00   \n",
       "984 2022-11-25 12:01:00+00:00   \n",
       "985 2022-11-25 12:01:00+00:00   \n",
       "669 2022-11-22 12:01:00+00:00   \n",
       "\n",
       "                                       conference_name  \\\n",
       "711  Shareholder/Analyst Call - National Australia ...   \n",
       "709  Shareholder/Analyst Call - National Australia ...   \n",
       "708  Shareholder/Analyst Call - National Australia ...   \n",
       "106  Shareholder/Analyst Call - Australia and New Z...   \n",
       "105  Shareholder/Analyst Call - Australia and New Z...   \n",
       "104  Shareholder/Analyst Call - Australia and New Z...   \n",
       "103  Shareholder/Analyst Call - Australia and New Z...   \n",
       "102  Shareholder/Analyst Call - Australia and New Z...   \n",
       "101  Shareholder/Analyst Call - Australia and New Z...   \n",
       "615                                 2022 Earnings Call   \n",
       "588                    Analyst/Investor Day - Icade SA   \n",
       "981  Analyst/Investor Day - Svenska Cellulosa Aktie...   \n",
       "982  Analyst/Investor Day - Svenska Cellulosa Aktie...   \n",
       "978  Analyst/Investor Day - Svenska Cellulosa Aktie...   \n",
       "979  Analyst/Investor Day - Svenska Cellulosa Aktie...   \n",
       "980  Analyst/Investor Day - Svenska Cellulosa Aktie...   \n",
       "983  Analyst/Investor Day - Svenska Cellulosa Aktie...   \n",
       "984  Analyst/Investor Day - Svenska Cellulosa Aktie...   \n",
       "985  Analyst/Investor Day - Svenska Cellulosa Aktie...   \n",
       "669  Mærsk A/S - Analyst/Investor Day - A.P. Møller...   \n",
       "\n",
       "                                             statement  before_tnfd_2022  \\\n",
       "711  Thank you. And thank you for raising that. Thi...                 0   \n",
       "709  Thank you. The reference to countries in the E...                 0   \n",
       "708  If I may, I'd just like to ask a follow-up que...                 0   \n",
       "106  Thank you for the question. And certainly, we'...                 0   \n",
       "105  Thanks for the question, Susan. I do have the ...                 0   \n",
       "104  Good afternoon. So as some of you may be aware...                 0   \n",
       "103  Thank you, Emilia. And actually, as I said, we...                 0   \n",
       "102  Thanks, John. Thanks, actually very important ...                 0   \n",
       "101  Thank you, Margaret, for your point and perhap...                 0   \n",
       "615  So again, background, so the TNFD is a taskfor...                 0   \n",
       "588  To conclude on Slide 54, our carbon intensity ...                 0   \n",
       "981  Well, it's true that we often hear quite conce...                 0   \n",
       "982  Thanks a lot, Hans. Now let's take a look at s...                 0   \n",
       "978  Yes. Here, I can give you an example of active...                 0   \n",
       "979  Thank you, Jonas. SCA has come far in its sust...                 0   \n",
       "980  Many people talk about how the world's biodive...                 0   \n",
       "983  No. In the Baltics, where we have forest asset...                 0   \n",
       "984  Well, for SCA, a sustainable forestry means th...                 0   \n",
       "985  Anna, could you give us an example of what we ...                 0   \n",
       "669  Right. That's very clear. That's very clear. A...                 0   \n",
       "\n",
       "     environmental  action  biodiversity  \n",
       "711  environmental    none  biodiversity  \n",
       "709  environmental    none  biodiversity  \n",
       "708  environmental  action  biodiversity  \n",
       "106  environmental  action  biodiversity  \n",
       "105  environmental    none  biodiversity  \n",
       "104  environmental  action  biodiversity  \n",
       "103  environmental    none  biodiversity  \n",
       "102  environmental    none  biodiversity  \n",
       "101  environmental    none  biodiversity  \n",
       "615  environmental    none  biodiversity  \n",
       "588  environmental  action  biodiversity  \n",
       "981  environmental    none  biodiversity  \n",
       "982  environmental  action  biodiversity  \n",
       "978  environmental  action  biodiversity  \n",
       "979  environmental  action  biodiversity  \n",
       "980  environmental    none  biodiversity  \n",
       "983  environmental    none  biodiversity  \n",
       "984  environmental    none  biodiversity  \n",
       "985  environmental    none  biodiversity  \n",
       "669  environmental    none  biodiversity  "
      ]
     },
     "execution_count": 31,
     "metadata": {},
     "output_type": "execute_result"
    }
   ],
   "source": [
    "df.sort_values(by='datetime', ascending=False).head(20)"
   ]
  },
  {
   "cell_type": "code",
   "execution_count": null,
   "metadata": {},
   "outputs": [],
   "source": []
  }
 ],
 "metadata": {
  "kernelspec": {
   "display_name": ".venv",
   "language": "python",
   "name": "python3"
  },
  "language_info": {
   "codemirror_mode": {
    "name": "ipython",
    "version": 3
   },
   "file_extension": ".py",
   "mimetype": "text/x-python",
   "name": "python",
   "nbconvert_exporter": "python",
   "pygments_lexer": "ipython3",
   "version": "3.9.6"
  }
 },
 "nbformat": 4,
 "nbformat_minor": 2
}
