{
 "cells": [
  {
   "cell_type": "code",
   "execution_count": 1,
   "metadata": {},
   "outputs": [
    {
     "name": "stderr",
     "output_type": "stream",
     "text": [
      "/Users/joey/Desktop/uni/Master/neo4j_repository/.venv/lib/python3.9/site-packages/urllib3/__init__.py:35: NotOpenSSLWarning: urllib3 v2 only supports OpenSSL 1.1.1+, currently the 'ssl' module is compiled with 'LibreSSL 2.8.3'. See: https://github.com/urllib3/urllib3/issues/3020\n",
      "  warnings.warn(\n"
     ]
    }
   ],
   "source": [
    "import pandas as pd\n",
    "from neo4j_access import *\n",
    "import numpy as np"
   ]
  },
  {
   "cell_type": "code",
   "execution_count": 2,
   "metadata": {},
   "outputs": [],
   "source": [
    "query = \"MATCH (s:Statement)-[:WAS_GIVEN_AT]->(e:ECC) WHERE toLower(s.text) CONTAINS 'biodiversity' RETURN e.time as datetime, e.title as conference_name, s.text as statement\""
   ]
  },
  {
   "cell_type": "code",
   "execution_count": 3,
   "metadata": {},
   "outputs": [
    {
     "name": "stdout",
     "output_type": "stream",
     "text": [
      "Planner COST\n",
      "\n",
      "Runtime SLOTTED\n",
      "\n",
      "Runtime version 5.12\n",
      "\n",
      "+------------------+----+------------------------------------------------------------------------------------------+----------------+\n",
      "| Operator         | Id | Details                                                                                  | Estimated Rows |\n",
      "+------------------+----+------------------------------------------------------------------------------------------+----------------+\n",
      "| +ProduceResults  |  0 | datetime, conference_name, statement                                                     |       12722848 |\n",
      "| |                +----+------------------------------------------------------------------------------------------+----------------+\n",
      "| +Projection      |  1 | cache[e.time] AS datetime, cache[e.title] AS conference_name, cache[s.text] AS statement |       12722848 |\n",
      "| |                +----+------------------------------------------------------------------------------------------+----------------+\n",
      "| +Filter          |  2 | toLower(cache[s.text]) CONTAINS $autostring_0 AND s:Statement                            |       12722848 |\n",
      "| |                +----+------------------------------------------------------------------------------------------+----------------+\n",
      "| +Expand(All)     |  3 | (e)<-[anon_0:WAS_GIVEN_AT]-(s)                                                           |       16963797 |\n",
      "| |                +----+------------------------------------------------------------------------------------------+----------------+\n",
      "| +CacheProperties |  4 | cache[e.title], cache[e.time]                                                            |         272527 |\n",
      "| |                +----+------------------------------------------------------------------------------------------+----------------+\n",
      "| +NodeByLabelScan |  5 | e:ECC                                                                                    |         272527 |\n",
      "+------------------+----+------------------------------------------------------------------------------------------+----------------+\n",
      "\n",
      "Total database accesses: ?\n",
      "\n",
      "\n",
      "query Execution Time: 48.347379 seconds\n",
      "\n",
      "📊 Query Result as DataFrame:\n",
      "                                 datetime  \\\n",
      "0     2021-01-21T05:18:00.000000000+00:00   \n",
      "1     2019-10-17T01:33:00.000000000+00:00   \n",
      "2     2021-03-03T04:43:00.000000000+00:00   \n",
      "3     2022-11-29T11:31:00.000000000+00:00   \n",
      "4     2022-11-29T11:31:00.000000000+00:00   \n",
      "...                                   ...   \n",
      "1284  2022-04-27T11:01:00.000000000+00:00   \n",
      "1285  2020-12-07T03:01:00.000000000+00:00   \n",
      "1286  2020-12-07T03:01:00.000000000+00:00   \n",
      "1287  2013-11-26T02:31:00.000000000+00:00   \n",
      "1288  2022-07-11T12:31:00.000000000+00:00   \n",
      "\n",
      "                                        conference_name  \\\n",
      "0                            AA - Earnings call Q4 2020   \n",
      "1                            AA - Earnings call Q3 2019   \n",
      "2     AA - Alcoa Corporation (AA) CEO Roy Harvey on ...   \n",
      "3                 Analyst/Investor Day - AAK AB (publ.)   \n",
      "4                 Analyst/Investor Day - AAK AB (publ.)   \n",
      "...                                                 ...   \n",
      "1284                      YAR.OL - Earnings call 1 2022   \n",
      "1285                              YAR.OL - Special Call   \n",
      "1286                              YAR.OL - Special Call   \n",
      "1287                              YAR.OL - Investor Day   \n",
      "1288   Gold Fields Limited, Yamana Gold Inc. - M&A Call   \n",
      "\n",
      "                                              statement  \n",
      "0     Thanks, Bill. Let me turn to our market. In th...  \n",
      "1     Thanks Bill. As is our practice, we'll now tur...  \n",
      "2     Perfect. And thank you, Dave. What I'd like to...  \n",
      "3     Yes, I think that's right. I think that there'...  \n",
      "4     Thank you so much, Lidia. And once again, welc...  \n",
      "...                                                 ...  \n",
      "1284  Well, what we've seen now in terms of global f...  \n",
      "1285  Good morning. Five years ago, our organization...  \n",
      "1286  Well, hello, everybody. I'm Paul Polman, the f...  \n",
      "1287  Thank you, Dag Tore. And good morning, everyon...  \n",
      "1288  Yes, just to mention our country manager, Dani...  \n",
      "\n",
      "[1289 rows x 3 columns]\n"
     ]
    }
   ],
   "source": [
    "QueryNeo4J.initialize()\n",
    "df = QueryNeo4J.commit_query(query=query)"
   ]
  },
  {
   "cell_type": "code",
   "execution_count": 4,
   "metadata": {},
   "outputs": [],
   "source": [
    "df[\"datetime\"] = df[\"datetime\"].astype(str)  # Convert Neo4j DateTime to string\n",
    "df[\"datetime\"] = pd.to_datetime(df[\"datetime\"])  # Convert string to Pandas datetime"
   ]
  },
  {
   "cell_type": "code",
   "execution_count": 7,
   "metadata": {},
   "outputs": [
    {
     "name": "stdout",
     "output_type": "stream",
     "text": [
      "<class 'pandas.core.frame.DataFrame'>\n",
      "RangeIndex: 1289 entries, 0 to 1288\n",
      "Data columns (total 3 columns):\n",
      " #   Column           Non-Null Count  Dtype              \n",
      "---  ------           --------------  -----              \n",
      " 0   datetime         1289 non-null   datetime64[ns, UTC]\n",
      " 1   conference_name  1289 non-null   object             \n",
      " 2   statement        1289 non-null   object             \n",
      "dtypes: datetime64[ns, UTC](1), object(2)\n",
      "memory usage: 30.3+ KB\n"
     ]
    },
    {
     "data": {
      "text/html": [
       "<div>\n",
       "<style scoped>\n",
       "    .dataframe tbody tr th:only-of-type {\n",
       "        vertical-align: middle;\n",
       "    }\n",
       "\n",
       "    .dataframe tbody tr th {\n",
       "        vertical-align: top;\n",
       "    }\n",
       "\n",
       "    .dataframe thead th {\n",
       "        text-align: right;\n",
       "    }\n",
       "</style>\n",
       "<table border=\"1\" class=\"dataframe\">\n",
       "  <thead>\n",
       "    <tr style=\"text-align: right;\">\n",
       "      <th></th>\n",
       "      <th>datetime</th>\n",
       "      <th>conference_name</th>\n",
       "      <th>statement</th>\n",
       "    </tr>\n",
       "  </thead>\n",
       "  <tbody>\n",
       "    <tr>\n",
       "      <th>0</th>\n",
       "      <td>2021-01-21 05:18:00+00:00</td>\n",
       "      <td>AA - Earnings call Q4 2020</td>\n",
       "      <td>Thanks, Bill. Let me turn to our market. In th...</td>\n",
       "    </tr>\n",
       "    <tr>\n",
       "      <th>1</th>\n",
       "      <td>2019-10-17 01:33:00+00:00</td>\n",
       "      <td>AA - Earnings call Q3 2019</td>\n",
       "      <td>Thanks Bill. As is our practice, we'll now tur...</td>\n",
       "    </tr>\n",
       "    <tr>\n",
       "      <th>2</th>\n",
       "      <td>2021-03-03 04:43:00+00:00</td>\n",
       "      <td>AA - Alcoa Corporation (AA) CEO Roy Harvey on ...</td>\n",
       "      <td>Perfect. And thank you, Dave. What I'd like to...</td>\n",
       "    </tr>\n",
       "    <tr>\n",
       "      <th>3</th>\n",
       "      <td>2022-11-29 11:31:00+00:00</td>\n",
       "      <td>Analyst/Investor Day - AAK AB (publ.)</td>\n",
       "      <td>Yes, I think that's right. I think that there'...</td>\n",
       "    </tr>\n",
       "    <tr>\n",
       "      <th>4</th>\n",
       "      <td>2022-11-29 11:31:00+00:00</td>\n",
       "      <td>Analyst/Investor Day - AAK AB (publ.)</td>\n",
       "      <td>Thank you so much, Lidia. And once again, welc...</td>\n",
       "    </tr>\n",
       "    <tr>\n",
       "      <th>...</th>\n",
       "      <td>...</td>\n",
       "      <td>...</td>\n",
       "      <td>...</td>\n",
       "    </tr>\n",
       "    <tr>\n",
       "      <th>1284</th>\n",
       "      <td>2022-04-27 11:01:00+00:00</td>\n",
       "      <td>YAR.OL - Earnings call 1 2022</td>\n",
       "      <td>Well, what we've seen now in terms of global f...</td>\n",
       "    </tr>\n",
       "    <tr>\n",
       "      <th>1285</th>\n",
       "      <td>2020-12-07 03:01:00+00:00</td>\n",
       "      <td>YAR.OL - Special Call</td>\n",
       "      <td>Good morning. Five years ago, our organization...</td>\n",
       "    </tr>\n",
       "    <tr>\n",
       "      <th>1286</th>\n",
       "      <td>2020-12-07 03:01:00+00:00</td>\n",
       "      <td>YAR.OL - Special Call</td>\n",
       "      <td>Well, hello, everybody. I'm Paul Polman, the f...</td>\n",
       "    </tr>\n",
       "    <tr>\n",
       "      <th>1287</th>\n",
       "      <td>2013-11-26 02:31:00+00:00</td>\n",
       "      <td>YAR.OL - Investor Day</td>\n",
       "      <td>Thank you, Dag Tore. And good morning, everyon...</td>\n",
       "    </tr>\n",
       "    <tr>\n",
       "      <th>1288</th>\n",
       "      <td>2022-07-11 12:31:00+00:00</td>\n",
       "      <td>Gold Fields Limited, Yamana Gold Inc. - M&amp;A Call</td>\n",
       "      <td>Yes, just to mention our country manager, Dani...</td>\n",
       "    </tr>\n",
       "  </tbody>\n",
       "</table>\n",
       "<p>1289 rows × 3 columns</p>\n",
       "</div>"
      ],
      "text/plain": [
       "                      datetime  \\\n",
       "0    2021-01-21 05:18:00+00:00   \n",
       "1    2019-10-17 01:33:00+00:00   \n",
       "2    2021-03-03 04:43:00+00:00   \n",
       "3    2022-11-29 11:31:00+00:00   \n",
       "4    2022-11-29 11:31:00+00:00   \n",
       "...                        ...   \n",
       "1284 2022-04-27 11:01:00+00:00   \n",
       "1285 2020-12-07 03:01:00+00:00   \n",
       "1286 2020-12-07 03:01:00+00:00   \n",
       "1287 2013-11-26 02:31:00+00:00   \n",
       "1288 2022-07-11 12:31:00+00:00   \n",
       "\n",
       "                                        conference_name  \\\n",
       "0                            AA - Earnings call Q4 2020   \n",
       "1                            AA - Earnings call Q3 2019   \n",
       "2     AA - Alcoa Corporation (AA) CEO Roy Harvey on ...   \n",
       "3                 Analyst/Investor Day - AAK AB (publ.)   \n",
       "4                 Analyst/Investor Day - AAK AB (publ.)   \n",
       "...                                                 ...   \n",
       "1284                      YAR.OL - Earnings call 1 2022   \n",
       "1285                              YAR.OL - Special Call   \n",
       "1286                              YAR.OL - Special Call   \n",
       "1287                              YAR.OL - Investor Day   \n",
       "1288   Gold Fields Limited, Yamana Gold Inc. - M&A Call   \n",
       "\n",
       "                                              statement  \n",
       "0     Thanks, Bill. Let me turn to our market. In th...  \n",
       "1     Thanks Bill. As is our practice, we'll now tur...  \n",
       "2     Perfect. And thank you, Dave. What I'd like to...  \n",
       "3     Yes, I think that's right. I think that there'...  \n",
       "4     Thank you so much, Lidia. And once again, welc...  \n",
       "...                                                 ...  \n",
       "1284  Well, what we've seen now in terms of global f...  \n",
       "1285  Good morning. Five years ago, our organization...  \n",
       "1286  Well, hello, everybody. I'm Paul Polman, the f...  \n",
       "1287  Thank you, Dag Tore. And good morning, everyon...  \n",
       "1288  Yes, just to mention our country manager, Dani...  \n",
       "\n",
       "[1289 rows x 3 columns]"
      ]
     },
     "execution_count": 7,
     "metadata": {},
     "output_type": "execute_result"
    }
   ],
   "source": [
    "df.info()\n",
    "df\n"
   ]
  },
  {
   "cell_type": "code",
   "execution_count": 8,
   "metadata": {},
   "outputs": [],
   "source": [
    "df['before_tnfd_2022'] = np.where(pd.to_datetime(df['datetime']) < pd.Timestamp(\"2022-01-01\", tz=\"UTC\"), 1, 0)"
   ]
  },
  {
   "cell_type": "code",
   "execution_count": 10,
   "metadata": {},
   "outputs": [
    {
     "data": {
      "text/plain": [
       "count    1289.000000\n",
       "mean        0.666408\n",
       "std         0.471679\n",
       "min         0.000000\n",
       "25%         0.000000\n",
       "50%         1.000000\n",
       "75%         1.000000\n",
       "max         1.000000\n",
       "Name: before_tnfd_2022, dtype: float64"
      ]
     },
     "execution_count": 10,
     "metadata": {},
     "output_type": "execute_result"
    }
   ],
   "source": [
    "df[\"before_tnfd_2022\"].describe()"
   ]
  },
  {
   "cell_type": "markdown",
   "metadata": {},
   "source": []
  },
  {
   "cell_type": "code",
   "execution_count": 14,
   "metadata": {},
   "outputs": [
    {
     "data": {
      "text/plain": [
       "before_tnfd_2022\n",
       "1    859\n",
       "0    430\n",
       "Name: count, dtype: int64"
      ]
     },
     "execution_count": 14,
     "metadata": {},
     "output_type": "execute_result"
    }
   ],
   "source": [
    "df[\"before_tnfd_2022\"].value_counts()"
   ]
  },
  {
   "cell_type": "code",
   "execution_count": null,
   "metadata": {},
   "outputs": [],
   "source": []
  },
  {
   "cell_type": "code",
   "execution_count": null,
   "metadata": {},
   "outputs": [],
   "source": []
  }
 ],
 "metadata": {
  "kernelspec": {
   "display_name": ".venv",
   "language": "python",
   "name": "python3"
  },
  "language_info": {
   "codemirror_mode": {
    "name": "ipython",
    "version": 3
   },
   "file_extension": ".py",
   "mimetype": "text/x-python",
   "name": "python",
   "nbconvert_exporter": "python",
   "pygments_lexer": "ipython3",
   "version": "3.9.6"
  }
 },
 "nbformat": 4,
 "nbformat_minor": 2
}
